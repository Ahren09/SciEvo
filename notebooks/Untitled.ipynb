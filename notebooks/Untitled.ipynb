{
 "cells": [
  {
   "cell_type": "code",
   "execution_count": 1,
   "id": "ac0f7fec-57ba-4a32-9045-9e29173f63cf",
   "metadata": {},
   "outputs": [],
   "source": [
    "import os\n",
    "import os.path as osp\n",
    "import scipy.sparse as sp\n",
    "import argparse"
   ]
  },
  {
   "cell_type": "code",
   "execution_count": 16,
   "id": "8de92ca1-231d-4bd7-8898-230a7be341ab",
   "metadata": {},
   "outputs": [],
   "source": [
    "if osp.basename(os.getcwd()) == \"notebooks\":\n",
    "    os.chdir(osp.dirname(os.getcwd()))\n",
    "os.getcwd()"
   ]
  },
  {
   "cell_type": "code",
   "execution_count": 18,
   "id": "95120c7b-78bf-4c87-8333-176adebafd07",
   "metadata": {},
   "outputs": [],
   "source": [
    "args = {\n",
    "    'batch_size': 256,\n",
    "    'data_dir': 'data',\n",
    "    'output_dir': 'outputs',\n",
    "    'save_model': False,\n",
    "    'do_visual': False,\n",
    "    'num_workers': 2\n",
    "}\n",
    "\n",
    "args = argparse.Namespace(**args)"
   ]
  },
  {
   "cell_type": "code",
   "execution_count": 19,
   "id": "672f89d3-7a92-4197-ab53-4fa168ca9911",
   "metadata": {},
   "outputs": [],
   "source": [
    "from model.vectorizer import CustomTfidfVectorizer"
   ]
  },
  {
   "cell_type": "code",
   "execution_count": 20,
   "id": "b2fc08c1-b143-469d-a37e-15014dbe4b28",
   "metadata": {},
   "outputs": [],
   "source": [
    "vectorizer = CustomTfidfVectorizer(args)"
   ]
  },
  {
   "cell_type": "code",
   "execution_count": 22,
   "id": "cec0fdfc-ae9d-4007-9e75-ac6b2d4d776e",
   "metadata": {},
   "outputs": [
    {
     "name": "stdout",
     "output_type": "stream",
     "text": [
      "Loading vectorizer from outputs/CustomTfidfVectorizer...\n"
     ]
    }
   ],
   "source": [
    "vectorizer.load()"
   ]
  },
  {
   "cell_type": "code",
   "execution_count": 23,
   "id": "cb632e5c-e0db-47b7-8a19-1a2cb4f90385",
   "metadata": {},
   "outputs": [
    {
     "data": {
      "text/plain": [
       "1984438"
      ]
     },
     "execution_count": 23,
     "metadata": {},
     "output_type": "execute_result"
    }
   ],
   "source": [
    "len(vectorizer.n_grams_list)"
   ]
  },
  {
   "cell_type": "code",
   "execution_count": 25,
   "id": "e3b736f1-6d6a-43b1-9695-d951da0ac8e1",
   "metadata": {},
   "outputs": [
    {
     "data": {
      "text/plain": [
       "(1984438, 13437261)"
      ]
     },
     "execution_count": 25,
     "metadata": {},
     "output_type": "execute_result"
    }
   ],
   "source": [
    "vectorizer.dtm.shape"
   ]
  },
  {
   "cell_type": "code",
   "execution_count": 28,
   "id": "bd0b5cbb-aec5-45ec-9eef-cb8910288f20",
   "metadata": {},
   "outputs": [
    {
     "name": "stdout",
     "output_type": "stream",
     "text": [
      "Loaded 1984440 entries in 84.549 secs.\n"
     ]
    }
   ],
   "source": [
    "from utility.utils_data import load_data\n",
    "data = load_data(args)"
   ]
  },
  {
   "cell_type": "code",
   "execution_count": 34,
   "id": "34d307d0-c9b2-46c2-8811-be324e8ef769",
   "metadata": {},
   "outputs": [],
   "source": [
    "abstracts = [abs for abs in data['summary'] if isinstance(abs, str)]"
   ]
  },
  {
   "cell_type": "code",
   "execution_count": 35,
   "id": "efc81403-8a5e-4515-bec7-2e8d25e67551",
   "metadata": {},
   "outputs": [
    {
     "data": {
      "text/plain": [
       "1984438"
      ]
     },
     "execution_count": 35,
     "metadata": {},
     "output_type": "execute_result"
    }
   ],
   "source": [
    "len(abstracts)"
   ]
  },
  {
   "cell_type": "code",
   "execution_count": null,
   "id": "57046e38-dd6a-42c4-8fa3-3309fef0f88d",
   "metadata": {},
   "outputs": [],
   "source": []
  }
 ],
 "metadata": {
  "kernelspec": {
   "display_name": "Python 3 (ipykernel)",
   "language": "python",
   "name": "python3"
  },
  "language_info": {
   "codemirror_mode": {
    "name": "ipython",
    "version": 3
   },
   "file_extension": ".py",
   "mimetype": "text/x-python",
   "name": "python",
   "nbconvert_exporter": "python",
   "pygments_lexer": "ipython3",
   "version": "3.8.13"
  }
 },
 "nbformat": 4,
 "nbformat_minor": 5
}
