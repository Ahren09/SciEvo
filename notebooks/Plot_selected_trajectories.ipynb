{
 "cells": [
  {
   "cell_type": "markdown",
   "id": "a5a24fb059e7a196",
   "metadata": {},
   "source": [
    "## Plot Selected Trajectories \n",
    "\n",
    "In this notebook, we generate the plots for the selected trajectories. We will use the `plotly`, `seaborn`, and \n",
    "`matplotlib` \n",
    "libraries to generate the plots. The plots will be saved in the `plots` directory."
   ]
  },
  {
   "cell_type": "code",
   "execution_count": 1,
   "id": "2c6328de-b36b-492a-ab01-b2c3489be896",
   "metadata": {},
   "outputs": [],
   "source": [
    "import matplotlib.pyplot as plt\n",
    "import matplotlib.patches as mpatches\n",
    "%matplotlib inline"
   ]
  },
  {
   "cell_type": "code",
   "execution_count": 2,
   "id": "bb137b7b-d600-40cf-af72-74c3d94b1534",
   "metadata": {},
   "outputs": [],
   "source": [
    "import datetime\n",
    "import os\n",
    "import os.path as osp\n",
    "import sys\n",
    "import pickle\n",
    "from collections import defaultdict\n",
    "\n",
    "import numpy as np\n",
    "import pandas as pd\n",
    "import pytz\n",
    "\n",
    "from dateutil.relativedelta import relativedelta\n",
    "from gensim.models import Word2Vec\n",
    "from openTSNE import TSNE"
   ]
  },
  {
   "cell_type": "code",
   "execution_count": 3,
   "id": "204696bb-e06f-479d-abdf-d338b82404d9",
   "metadata": {},
   "outputs": [],
   "source": [
    "from argparse import Namespace"
   ]
  },
  {
   "cell_type": "code",
   "execution_count": 4,
   "id": "eac59302-c165-4483-94f1-5d9bd256db43",
   "metadata": {},
   "outputs": [],
   "source": [
    "os.chdir(\"..\")"
   ]
  },
  {
   "cell_type": "code",
   "execution_count": 5,
   "id": "07818184-482b-4821-80c7-8459fffe2d06",
   "metadata": {},
   "outputs": [],
   "source": [
    "sys.path.insert(0, os.path.abspath('..'))\n",
    "sys.path.insert(0, os.path.abspath('.'))"
   ]
  },
  {
   "cell_type": "code",
   "execution_count": 6,
   "id": "99132488-bb86-46b4-a242-b7af137dbdf2",
   "metadata": {},
   "outputs": [],
   "source": [
    "import const\n",
    "from arguments import parse_args\n",
    "from embed import alignment\n",
    "from embed.embeddings import Embedding\n",
    "from utility.utils_data import load_keywords\n",
    "from utility.utils_misc import project_setup\n",
    "from utility.utils_time import TimeIterator, get_file_times\n"
   ]
  },
  {
   "cell_type": "code",
   "execution_count": 7,
   "id": "811e8510-849b-4b3c-921b-fabf1286cda6",
   "metadata": {},
   "outputs": [],
   "source": [
    "args = Namespace(base_year=2023, \n",
    "                 batch_size=256, \n",
    "                 checkpoint_dir='checkpoints', \n",
    "                 data_dir='data', \n",
    "                 debug=False, \n",
    "                 do_plotly=True, \n",
    "                 device='cuda', \n",
    "                 do_visual=False, \n",
    "                 embedding_dim=50, \n",
    "                 epochs=50, embed_dim=100, \n",
    "                 graph_backend='networkx', \n",
    "                 lr=0.01, model_name='word2vec', \n",
    "                 num_workers=16, output_dir='outputs', \n",
    "                 save_every=20, save_model=False, \n",
    "                 start_year=1985, end_year=2025, \n",
    "                 load_from_cache=False, step_size=50, \n",
    "                 seed=42, feature_name='title', \n",
    "                 tokenization_mode='llm_extracted_keyword', \n",
    "                 graphistry_personal_key_id='', \n",
    "                 graphistry_personal_key_secret='', \n",
    "                 min_occurrences=3)"
   ]
  },
  {
   "cell_type": "code",
   "execution_count": null,
   "id": "299a872e",
   "metadata": {},
   "outputs": [],
   "source": [
    "keywords = load_keywords(args.data_dir, args.feature_name)\n",
    "\n",
    "highlighted_words_embed_dict = defaultdict(dict)\n",
    "\n",
    "# We plot the trajectories of these words over time\n",
    "highlighted_words = [\"artificial intelligence\", \"machine learning\", \"deep learning\", \"natural language \"\n",
    "                                                                                         \"processing\", \"nlp\",\n",
    "                         \"optimization\",\n",
    "                         \"large language \"\n",
    "                         \"models\",\n",
    "                         \"llm\", \"language model\", \"attention\", \"neural networks\", \"transformer\", \"transformers\", \"bias\",\n",
    "                         \"covid\",\n",
    "                         \"covid-19\", \"sars-cov-2\",\n",
    "                         \"quantum computing\", \"quantum\", \"gravitational waves\", \"decision making\", \"decision\"]\n",
    "nearest_neighbors = set()\n",
    "\n",
    "iterator = TimeIterator(args.start_year, args.end_year, start_month=1, end_month=1, snapshot_type='yearly')\n",
    "\n",
    "first_iteration = True\n",
    "\n",
    "words_current_year = set()\n",
    "words_previous_year = set()\n",
    "\n",
    "embed_previous_year = None\n",
    "\n",
    "# Align all embeddings to this timestamp\n",
    "base_embed_start_timestamp = datetime.datetime(2023, 1, 1, 0, 0, 0, tzinfo=pytz.utc)\n",
    "\n",
    "keywords['year'] = keywords['published'].dt.year\n",
    "keyword_counts_base = keywords[keywords['year'] == args.base_year].explode('keywords').groupby('keywords').size()\n"
   ]
  },
  {
   "cell_type": "code",
   "execution_count": 9,
   "id": "7941c8cb-8e72-498c-9d25-3b836ad9305c",
   "metadata": {},
   "outputs": [],
   "source": [
    "if args.model_name == \"word2vec\":\n",
    "    base_embed_filename = f\"{args.model_name}_{base_embed_start_timestamp.strftime(const.format_string)}-\" \\\n",
    "                          f\"{(base_embed_start_timestamp + relativedelta(years=1)).strftime(const.format_string)}.model\"\n",
    "\n",
    "    base_embed_filename = f\"{args.model_name}_{base_embed_start_timestamp.year}.model\"\n",
    "\n",
    "\n",
    "    base_embed = Word2Vec.load(\n",
    "        osp.join(args.checkpoint_dir, f\"{args.feature_name}_{args.tokenization_mode}\", const.WORD2VEC, base_embed_filename))\n",
    "\n",
    "    base_embed = Embedding(base_embed.wv.vectors, base_embed.wv.index_to_key, normalize=True)\n",
    "\n",
    "elif args.model_name == \"gcn\":\n",
    "\n",
    "    path = osp.join(args.checkpoint_dir, f\"{args.feature_name}_{args.tokenization_mode}\", args.model_name,\n",
    "                    f\"gcn_embeds_{args.base_year}.pkl\")\n",
    "\n",
    "    with open(path, \"rb\") as f:\n",
    "        d = pickle.load(f)\n",
    "\n",
    "    node_mapping = d['node_mapping']\n",
    "    embed = d['embed']\n",
    "    base_embed = Embedding(embed.numpy(), list(node_mapping.keys()), normalize=True)\n",
    "\n",
    "else:\n",
    "    raise NotImplementedError"
   ]
  },
  {
   "cell_type": "code",
   "execution_count": 10,
   "id": "d0f4bf04-07b3-4eb1-80e4-fb4774b97468",
   "metadata": {},
   "outputs": [
    {
     "name": "stdout",
     "output_type": "stream",
     "text": [
      "#Words in base embedding: 43807\n"
     ]
    }
   ],
   "source": [
    "# Filter out words that appear less than `min_occurrences` times\n",
    "base_embed = base_embed.get_subembed(\n",
    "    keyword_counts_base[keyword_counts_base >= args.min_occurrences].index.tolist())\n",
    "print(f\"#Words in base embedding: {len(base_embed.iw)}\")\n",
    "\n",
    "valid_words_mask_base = base_embed.m.sum(axis=1) != 0\n",
    "\n",
    "words_base_embeds = set(np.array(base_embed.iw)[valid_words_mask_base])"
   ]
  },
  {
   "cell_type": "code",
   "execution_count": 11,
   "id": "32e1e176-a0f6-44e9-982c-2eac1d2cf61f",
   "metadata": {},
   "outputs": [
    {
     "name": "stdout",
     "output_type": "stream",
     "text": [
      "File: checkpoints/title_llm_extracted_keyword/word2vec/word2vec_1985.model Creation: 2024-08-24 23:17:34, Last Modified: 2024-08-24 23:17:34\n",
      "#Words (Year 1985): 620\n",
      "[Year=1985] Closest words to 'artificial intelligence': part-of-speech tagging, machine learning, machine translation, neural networks, automorphism groups\n",
      "[Year=1985] Closest words to 'machine learning': natural language processing, quantum field theory, algebraic geometry, neural networks, quantum gravity\n",
      "[Year=1985] Closest words to 'natural language processing': algebraic geometry, quantum field theory, lattice qcd, quantum mechanics, general relativity\n",
      "[Year=1985] Closest words to 'optimization': quantum field theory, quantum gravity, hamiltonian systems, orthogonal polynomials, natural language processing\n",
      "[Year=1985] Closest words to 'neural networks': natural language processing, algebraic geometry, machine learning, quantum field theory, lattice qcd\n",
      "[Year=1985] Closest words to 'quantum': lattice qcd, algebraic geometry, quantum field theory, general relativity, conformal field theory\n",
      "[Year=1985] Closest words to 'gravitational waves': universality, quantum group, dynamical systems, remarks, chern-simons theory\n",
      "File: checkpoints/title_llm_extracted_keyword/word2vec/word2vec_1995.model Creation: 2024-08-24 23:17:38, Last Modified: 2024-08-24 23:17:38\n",
      "#Words (Year 1995): 452\n",
      "[Year=1995] Closest words to 'machine learning': information retrieval, soliton equations, moduli spaces, homogeneous, solutions\n",
      "[Year=1995] Closest words to 'natural language processing': quantum groups, differential geometry, quantum algebra, algebraic geometry, lattice\n",
      "[Year=1995] Closest words to 'optimization': quantum groups, differential geometry, quantum algebra, quantum chromodynamics, gauge theory\n",
      "[Year=1995] Closest words to 'neural networks': natural language, lattice field theory, topology, natural language processing, moduli spaces\n",
      "[Year=1995] Closest words to 'quantum': quantum groups, quantum algebra, differential geometry, algebraic geometry, quantum chromodynamics\n",
      "File: checkpoints/title_llm_extracted_keyword/word2vec/word2vec_1996.model Creation: 2024-08-24 23:17:40, Last Modified: 2024-08-24 23:17:40\n",
      "#Words (Year 1996): 560\n",
      "[Year=1996] Closest words to 'machine learning': classification, knot theory, quantum groups, quantum algebra, differential geometry\n",
      "[Year=1996] Closest words to 'natural language processing': quantum groups, quantum algebra, differential geometry, integrable systems, quantum\n",
      "[Year=1996] Closest words to 'neural networks': symmetries, quantum mechanics, quantum algebra, quantum, monopoles\n",
      "[Year=1996] Closest words to 'quantum computing': knot theory, turbulence, quantum gravity, general relativity, algebraic geometry\n",
      "[Year=1996] Closest words to 'quantum': differential geometry, quantum algebra, quantum groups, algebraic geometry, turbulence\n",
      "[Year=1996] Closest words to 'gravitational waves': chaos, algebraic geometry, quantum groups, quantum, particle physics\n",
      "File: checkpoints/title_llm_extracted_keyword/word2vec/word2vec_1997.model Creation: 2024-08-24 23:17:41, Last Modified: 2024-08-24 23:17:41\n",
      "#Words (Year 1997): 842\n",
      "[Year=1997] Closest words to 'machine learning': algebraic geometry, quantum mechanics, condensed matter, phase transitions, differential geometry\n",
      "[Year=1997] Closest words to 'natural language processing': algebraic geometry, condensed matter physics, differential geometry, chaos, quantum\n",
      "[Year=1997] Closest words to 'optimization': quantum mechanics, algebraic geometry, monte carlo, chaos, effective potential\n",
      "[Year=1997] Closest words to 'neural networks': critical exponents, disordered systems, algebraic geometry, phase transitions, condensed matter\n",
      "[Year=1997] Closest words to 'quantum': algebraic geometry, chaos, quantum mechanics, superconductors, quantum algebra\n",
      "[Year=1997] Closest words to 'gravitational waves': superconductivity, superconductors, nonlinear dynamics, localization, theoretical physics\n",
      "File: checkpoints/title_llm_extracted_keyword/word2vec/word2vec_1998.model Creation: 2024-08-24 23:17:43, Last Modified: 2024-08-24 23:17:43\n",
      "#Words (Year 1998): 1232\n",
      "[Year=1998] Closest words to 'artificial intelligence': ising model, threshold, symmetry, polymer, relaxation\n",
      "[Year=1998] Closest words to 'machine learning': vortices, spin, models, lepton, crystallization\n",
      "[Year=1998] Closest words to 'natural language processing': discourse analysis, fermilab, vortices, electroproduction, orthogonal polynomials\n",
      "[Year=1998] Closest words to 'optimization': survey, monte carlo, differential geometry, interfaces, spectrum\n",
      "[Year=1998] Closest words to 'neural networks': ground state, critical behavior, cosmic strings, randomness, vortices\n",
      "[Year=1998] Closest words to 'quantum computing': differential geometry, operator algebras, excited states, complex systems, stochastic\n",
      "[Year=1998] Closest words to 'quantum': phase space, stability, fluctuations, integrable, stochastic\n",
      "[Year=1998] Closest words to 'gravitational waves': perturbation theory, condensed matter, topological entropy, black holes, spin\n",
      "File: checkpoints/title_llm_extracted_keyword/word2vec/word2vec_1999.model Creation: 2024-08-24 23:17:46, Last Modified: 2024-08-24 23:17:46\n",
      "#Words (Year 1999): 1567\n",
      "[Year=1999] Closest words to 'artificial intelligence': logic, testing, sine-gordon equation, distribution, configuration spaces\n",
      "[Year=1999] Closest words to 'machine learning': electrostatic interactions, disordered media, elasticity, critical exponents, machine translation\n",
      "[Year=1999] Closest words to 'natural language processing': ensembles, disordered media, information, homology, d-wave superconductor\n",
      "[Year=1999] Closest words to 'optimization': adaptation, testing, disordered media, stabilization, equilibrium\n",
      "[Year=1999] Closest words to 'neural networks': criticality, ising model, nuclear, relative equilibria, supercooled liquids\n",
      "[Year=1999] Closest words to 'quantum computing': manifold, billiards, kinetic equations, eigenfunctions, quantum computation\n",
      "[Year=1999] Closest words to 'quantum': algebra, groupoids, mathematical physics, differential geometry, compact\n",
      "[Year=1999] Closest words to 'gravitational waves': quantum physics, boundary conditions, energy-momentum tensor, massive particles, hawking radiation\n",
      "File: checkpoints/title_llm_extracted_keyword/word2vec/word2vec_2000.model Creation: 2024-08-24 23:17:48, Last Modified: 2024-08-24 23:17:48\n",
      "#Words (Year 2000): 1861\n",
      "[Year=2000] Closest words to 'artificial intelligence': financial markets, au+au collisions, high magnetic field, energy dependence, cobordism\n",
      "[Year=2000] Closest words to 'machine learning': quantum group, $c^*$-algebras, topological, symmetric spaces, depinning\n",
      "[Year=2000] Closest words to 'natural language processing': adsorption, au+au collisions, superluminal, lattice boltzmann, financial markets\n",
      "[Year=2000] Closest words to 'optimization': logic, dirac equation, constraints, fields, energy dependence\n",
      "[Year=2000] Closest words to 'neural networks': fields, weak interactions, decays, neutrino mixing, bottom quark\n",
      "[Year=2000] Closest words to 'quantum computing': disordered, unconventional superconductors, periodic orbits, spin fluctuations, critical current\n",
      "[Year=2000] Closest words to 'quantum': mesoscopic, bose-einstein condensate, three-dimensional, magnetic field, glass transition\n",
      "[Year=2000] Closest words to 'gravitational waves': quantum cosmology, cosmological constant, discrete, boundary conditions, computer simulations\n",
      "File: checkpoints/title_llm_extracted_keyword/word2vec/word2vec_2001.model Creation: 2024-08-24 23:17:51, Last Modified: 2024-08-24 23:17:51\n",
      "#Words (Year 2001): 2008\n",
      "[Year=2001] Closest words to 'machine learning': language modeling, learning, natural language processing, analogues, time\n",
      "[Year=2001] Closest words to 'natural language processing': language modeling, fundamental physics, superluminal, configuration space, learning\n",
      "[Year=2001] Closest words to 'optimization': computational geometry, global optimization, clustering, knowledge representation, nematic\n",
      "[Year=2001] Closest words to 'neural networks': density functional theory, diffusion, spectral properties, critical current, order\n",
      "[Year=2001] Closest words to 'quantum computing': finite dimensional, random polynomials, hyperbolicity, quantum information, identities\n",
      "[Year=2001] Closest words to 'quantum': quantum mechanics, chaos, curves, integrability, nonlinear dynamics\n",
      "[Year=2001] Closest words to 'gravitational waves': neutron matter, scalar field, collective modes, quantum theory, hartree-fock\n",
      "File: checkpoints/title_llm_extracted_keyword/word2vec/word2vec_2002.model Creation: 2024-08-24 23:17:54, Last Modified: 2024-08-24 23:17:54\n",
      "#Words (Year 2002): 2226\n",
      "[Year=2002] Closest words to 'machine learning': homology theory, mathematical structures, investigation, geodesics, expansion\n",
      "[Year=2002] Closest words to 'natural language processing': laser, quantum graphs, indecomposable, accuracy, regularity\n",
      "[Year=2002] Closest words to 'optimization': brain, emergence, game theory, anharmonic oscillator, learning\n",
      "[Year=2002] Closest words to 'neural networks': special relativity, statistical physics, one-dimensional, stochastic processes, endomorphisms\n",
      "[Year=2002] Closest words to 'quantum computing': gravitational waves, consciousness, mathematical modeling, holography, einstein\n",
      "[Year=2002] Closest words to 'quantum': group theory, applications, invariants, classification, groups\n",
      "[Year=2002] Closest words to 'gravitational waves': testing, quantum electrodynamics, speed of light, graded, angular momentum\n",
      "File: checkpoints/title_llm_extracted_keyword/word2vec/word2vec_2003.model Creation: 2024-08-24 23:17:58, Last Modified: 2024-08-24 23:17:58\n",
      "#Words (Year 2003): 2461\n",
      "[Year=2003] Closest words to 'artificial intelligence': lagrangian submanifolds, fourier coefficients, model selection, computing, cognition\n",
      "[Year=2003] Closest words to 'machine learning': density functional theory, information processing, artificial intelligence, model selection, fourier coefficients\n",
      "[Year=2003] Closest words to 'natural language processing': resource allocation, resource management, architecture, security, testbed\n",
      "[Year=2003] Closest words to 'optimization': random matrices, symmetric, graph theory, free group, category theory\n",
      "[Year=2003] Closest words to 'neural networks': sequence prediction, data mining, radiation, vertex operator algebra, interface\n",
      "[Year=2003] Closest words to 'quantum computing': quantum noise, tunneling, entanglement, existence, glassy dynamics\n",
      "[Year=2003] Closest words to 'quantum': complexity, differential geometry, automorphisms, quantum mechanics, mathematical physics\n",
      "[Year=2003] Closest words to 'gravitational waves': calculations, non-existence, quaternions, stochastic processes, reflection\n",
      "File: checkpoints/title_llm_extracted_keyword/word2vec/word2vec_2004.model Creation: 2024-08-24 23:18:02, Last Modified: 2024-08-24 23:18:02\n",
      "#Words (Year 2004): 2945\n",
      "[Year=2004] Closest words to 'artificial intelligence': formal methods, deposition, global minima, frame theory, quantum hall effect\n",
      "[Year=2004] Closest words to 'machine learning': stochastic calculus, braid group, method, wave propagation, ramanujan\n",
      "[Year=2004] Closest words to 'natural language processing': isomorphism problem, rational solutions, cp violation, higher rank, 3-manifolds\n",
      "[Year=2004] Closest words to 'optimization': weighted networks, network analysis, characterization, community detection, differential equations\n",
      "[Year=2004] Closest words to 'neural networks': zeta functions, symmetries, clusters, infinity, biological networks\n",
      "[Year=2004] Closest words to 'quantum computing': quantum computation, quantum algorithms, neural networks, differential equations, optimization\n",
      "[Year=2004] Closest words to 'quantum': noise, phase transitions, random networks, random media, dna\n",
      "[Year=2004] Closest words to 'gravitational waves': hadamard spaces, laminations, domains, variations, flexibility\n",
      "[Year=2004] Closest words to 'decision making': consciousness, painlevé equation, subgroups, family, inference\n",
      "File: checkpoints/title_llm_extracted_keyword/word2vec/word2vec_2005.model Creation: 2024-08-24 23:18:07, Last Modified: 2024-08-24 23:18:07\n",
      "#Words (Year 2005): 3267\n",
      "[Year=2005] Closest words to 'machine learning': hilbert series, shimura varieties, regularization, hypergeometric functions, vector spaces\n",
      "[Year=2005] Closest words to 'natural language processing': positive solutions, gorenstein, lambda calculus, integer programming, polymer solutions\n",
      "[Year=2005] Closest words to 'optimization': self-organized criticality, opinion formation, small-world networks, painlevé equation, random matrix theory\n",
      "[Year=2005] Closest words to 'neural networks': characterizations, traffic, small-world, cobordism, random\n",
      "[Year=2005] Closest words to 'quantum computing': metamaterials, wave functions, quantum systems, $c^*$-algebras, symmetric group\n",
      "[Year=2005] Closest words to 'quantum': diffusion, statistical physics, stochastic, stochastic processes, brownian motion\n",
      "[Year=2005] Closest words to 'gravitational waves': hawking radiation, big bang, approach, elastic solids, inconsistencies\n",
      "[Year=2005] Closest words to 'decision making': neutral atoms, extra dimensions, nanopores, multidimensional, xenon\n",
      "File: checkpoints/title_llm_extracted_keyword/word2vec/word2vec_2006.model Creation: 2024-08-24 23:18:12, Last Modified: 2024-08-24 23:18:12\n",
      "#Words (Year 2006): 3779\n",
      "[Year=2006] Closest words to 'artificial intelligence': data mining, computer science, semi-supervised learning, reinforcement learning, hedging\n",
      "[Year=2006] Closest words to 'machine learning': support vector machines, symmetric groups, higher-order, embeddings, amino acids\n",
      "[Year=2006] Closest words to 'natural language processing': four-manifolds, 4-dimensional, non-gaussian, decision making, silicon detectors\n",
      "[Year=2006] Closest words to 'optimization': modularity, cooperation, network structure, social networks, scale-free networks\n",
      "[Year=2006] Closest words to 'neural networks': attractors, symmetric, optimal, oscillators, revisited\n",
      "[Year=2006] Closest words to 'quantum computing': localization, topological, lattices, decoherence, quantum phase transitions\n",
      "[Year=2006] Closest words to 'quantum': convolution, financial markets, chaos, stochastic, nonlinear dynamics\n",
      "[Year=2006] Closest words to 'gravitational waves': hawking radiation, violations, kaon production, recombination, nuclear\n",
      "[Year=2006] Closest words to 'decision making': amorphous, stokes-einstein relation, natural language processing, cancer, quantum confinement\n",
      "File: checkpoints/title_llm_extracted_keyword/word2vec/word2vec_2007.model Creation: 2024-08-24 23:18:18, Last Modified: 2024-08-24 23:18:18\n",
      "#Words (Year 2007): 4266\n",
      "[Year=2007] Closest words to 'artificial intelligence': condition monitoring, compressed sensing, predictive modeling, self-organizing maps, unsupervised learning\n",
      "[Year=2007] Closest words to 'machine learning': convexity, neural networks, trees, networks, combinatorial\n",
      "[Year=2007] Closest words to 'deep learning': ultracold neutrons, spectrometer, supersymmetry breaking, spectral function, sturm-liouville operators\n",
      "[Year=2007] Closest words to 'natural language processing': kernel methods, support vector machines, image classification, data structures, supervised learning\n",
      "[Year=2007] Closest words to 'optimization': neural networks, networks, complexity, graph theory, synchronization\n",
      "[Year=2007] Closest words to 'neural networks': graphs, modularity, trees, computational complexity, convexity\n",
      "[Year=2007] Closest words to 'quantum computing': fault tolerance, ldpc codes, reed-solomon codes, network coding, quantum information theory\n",
      "[Year=2007] Closest words to 'quantum': fidelity, quantum phase transitions, quantum information, quantum dots, coherent control\n",
      "[Year=2007] Closest words to 'gravitational waves': equivalence principle, wave equation, electromagnetic fields, earth, superconducting qubits\n",
      "[Year=2007] Closest words to 'decision making': martingales, particle filters, fokker-planck equation, martingale, poisson process\n",
      "File: checkpoints/title_llm_extracted_keyword/word2vec/word2vec_2008.model Creation: 2024-08-24 23:18:25, Last Modified: 2024-08-24 23:18:25\n",
      "#Words (Year 2008): 4631\n",
      "[Year=2008] Closest words to 'artificial intelligence': cancer, evolutionary dynamics, norm, strategic behavior, conditions\n",
      "[Year=2008] Closest words to 'machine learning': discovery, open problems, astronomy, baryon resonances, low energy\n",
      "[Year=2008] Closest words to 'natural language processing': near-field, semilattices, hydrodynamic limit, cost optimization, particle motion\n",
      "[Year=2008] Closest words to 'optimization': spreadsheet, estimation, zero-sum games, algorithm, reinforcement learning\n",
      "[Year=2008] Closest words to 'neural networks': oscillations, thermal effects, nonequilibrium systems, naming game, forecasting\n",
      "[Year=2008] Closest words to 'bias': multiple testing, distance, derived equivalences, set, class\n",
      "[Year=2008] Closest words to 'quantum computing': entanglement, quantum computation, superconducting qubits, decoherence, quantum information\n",
      "[Year=2008] Closest words to 'quantum': quantum computing, superconducting qubits, quantum information, statistics, information theory\n",
      "[Year=2008] Closest words to 'gravitational waves': nuclear symmetry energy, hyperons, holographic principle, excitations, nuclear equation of state\n",
      "[Year=2008] Closest words to 'decision making': random sampling, statistical models, stein's method, supermartingales, mathematician\n",
      "File: checkpoints/title_llm_extracted_keyword/word2vec/word2vec_2009.model Creation: 2024-08-24 23:18:33, Last Modified: 2024-08-24 23:18:33\n",
      "#Words (Year 2009): 5322\n",
      "[Year=2009] Closest words to 'artificial intelligence': dimension reduction, sequential data, unsupervised learning, image processing, intrusion detection\n",
      "[Year=2009] Closest words to 'machine learning': image classification, feature selection, artificial intelligence, compression, genetic algorithm\n",
      "[Year=2009] Closest words to 'deep learning': synchrony, new results, regularity conditions, space weather, bmo\n",
      "[Year=2009] Closest words to 'natural language processing': user behavior, traffic, effective temperature, small-world networks, multi-dimensional\n",
      "[Year=2009] Closest words to 'optimization': analysis, compressed sensing, clustering, population protocols, genetic algorithms\n",
      "[Year=2009] Closest words to 'neural networks': image classification, bayesian, variable selection, robotics, heat kernel\n",
      "[Year=2009] Closest words to 'bias': energy cascade, unfolding, stretching, knowledge representation, communication networks\n",
      "[Year=2009] Closest words to 'quantum computing': superconducting qubits, quantum algorithms, quantum computation, finite automata, tensor products\n",
      "[Year=2009] Closest words to 'quantum': cellular automata, evolution, entropy, stochastic, mutual information\n",
      "[Year=2009] Closest words to 'gravitational waves': black holes, general relativity, galaxy formation, cosmological constant, pulsars\n",
      "[Year=2009] Closest words to 'decision making': finite elements, steganography, power, large-scale networks, isospectral\n",
      "File: checkpoints/title_llm_extracted_keyword/word2vec/word2vec_2010.model Creation: 2024-08-24 23:18:42, Last Modified: 2024-08-24 23:18:42\n",
      "#Words (Year 2010): 6564\n",
      "[Year=2010] Closest words to 'artificial intelligence': regret minimization, kernel methods, cybersecurity, practical applications, rule extraction\n",
      "[Year=2010] Closest words to 'machine learning': image classification, reinforcement learning, transfer learning, deep learning, neural networks\n",
      "[Year=2010] Closest words to 'deep learning': reinforcement learning, image classification, recommender systems, feature selection, online learning\n",
      "[Year=2010] Closest words to 'natural language processing': wireless communications, stochastic optimization, active learning, communication theory, physical layer security\n",
      "[Year=2010] Closest words to 'optimization': submodular functions, time scales, minimization, parallel computing, markov chain monte carlo\n",
      "[Year=2010] Closest words to 'neural networks': reinforcement learning, deep learning, image classification, transfer learning, active learning\n",
      "[Year=2010] Closest words to 'bias': symmetry properties, edge-disjoint paths, edge coloring, testability, network control\n",
      "[Year=2010] Closest words to 'quantum computing': fault tolerance, complexity theory, polar codes, minimum distance, multiple sources\n",
      "[Year=2010] Closest words to 'quantum': nonlinear, navier-stokes equation, compression, stochastic, metric graphs\n",
      "[Year=2010] Closest words to 'gravitational waves': x-ray emission, light curves, x-ray observations, non-thermal emission, observations\n",
      "[Year=2010] Closest words to 'decision making': control theory, epidemics, linear systems, wireless, cellular networks\n",
      "File: checkpoints/title_llm_extracted_keyword/word2vec/word2vec_2011.model Creation: 2024-08-24 23:18:55, Last Modified: 2024-08-24 23:18:55\n",
      "#Words (Year 2011): 8146\n",
      "[Year=2011] Closest words to 'artificial intelligence': reinforcement learning, node classification, dimension reduction, transfer learning, unsupervised learning\n",
      "[Year=2011] Closest words to 'machine learning': image classification, active learning, feature selection, neural networks, image recognition\n",
      "[Year=2011] Closest words to 'deep learning': phishing, performance improvement, cybersecurity, sparse coding, natural language processing\n",
      "[Year=2011] Closest words to 'natural language processing': awareness, cybersecurity, empirical study, data privacy, data extraction\n",
      "[Year=2011] Closest words to 'optimization': evolutionary algorithms, multi-objective optimization, adaptive learning, cloud computing, framework\n",
      "[Year=2011] Closest words to 'neural networks': image classification, image recognition, transfer learning, face recognition, feature selection\n",
      "[Year=2011] Closest words to 'bias': growth rate, weak gravitational lensing, cosmological perturbations, large-scale structure, integrable models\n",
      "[Year=2011] Closest words to 'quantum computing': surface codes, fault tolerance, polar codes, error correction, quantum algorithms\n",
      "[Year=2011] Closest words to 'quantum': dispersion, boltzmann equation, fractional, self-adjointness, reaction-diffusion\n",
      "[Year=2011] Closest words to 'gravitational waves': gravitational fields, scalar-tensor theories, cosmic acceleration, binary black holes, electromagnetic counterparts\n",
      "[Year=2011] Closest words to 'decision making': fairness, learning, graph algorithms, communication, time series\n",
      "File: checkpoints/title_llm_extracted_keyword/word2vec/word2vec_2012.model Creation: 2024-08-24 23:19:09, Last Modified: 2024-08-24 23:19:09\n",
      "#Words (Year 2012): 9204\n",
      "[Year=2012] Closest words to 'artificial intelligence': dependence, voronoi diagrams, ontology, gradient estimation, multiresolution\n",
      "[Year=2012] Closest words to 'machine learning': deep learning, image recognition, convolutional neural networks, transfer learning, text summarization\n",
      "[Year=2012] Closest words to 'deep learning': image recognition, convolutional neural networks, image classification, text summarization, natural language processing\n",
      "[Year=2012] Closest words to 'natural language processing': image classification, text summarization, transfer learning, structured prediction, convolutional neural networks\n",
      "[Year=2012] Closest words to 'optimization': image classification, ontology, hybrid method, natural language processing, kernel methods\n",
      "[Year=2012] Closest words to 'neural networks': convolutional neural networks, image recognition, deep learning, image classification, text summarization\n",
      "[Year=2012] Closest words to 'bias': methodology, subdiffusion, energy consumption, limitations, image recovery\n",
      "[Year=2012] Closest words to 'quantum computing': quantum error correction, quantum cryptography, positive maps, mutually unbiased bases, quantum communication\n",
      "[Year=2012] Closest words to 'quantum': quantum control, ground state, arxiv, phenomenon, harmonic oscillator\n",
      "[Year=2012] Closest words to 'gravitational waves': virgo, core-collapse supernova, ligo, pulsar timing, equations of state\n",
      "[Year=2012] Closest words to 'decision making': feature selection, crowdsourcing, online learning, structured prediction, collective intelligence\n",
      "File: checkpoints/title_llm_extracted_keyword/word2vec/word2vec_2013.model Creation: 2024-08-24 23:19:25, Last Modified: 2024-08-24 23:19:25\n",
      "#Words (Year 2013): 9975\n",
      "[Year=2013] Closest words to 'artificial intelligence': longitudinal data, active learning, image denoising, benchmarking, feature selection\n",
      "[Year=2013] Closest words to 'machine learning': cybersecurity, sentiment analysis, structure learning, feature selection, natural language processing\n",
      "[Year=2013] Closest words to 'deep learning': image classification, image recognition, riemannian metrics, representation learning, convolutional neural networks\n",
      "[Year=2013] Closest words to 'natural language processing': sentiment analysis, text mining, computer vision, cybersecurity, topic modeling\n",
      "[Year=2013] Closest words to 'optimization': dynamic environments, power consumption, constrained optimization, robust optimization, optimality\n",
      "[Year=2013] Closest words to 'attention': ltl, mixture model, denoising, painlevé equation, parsing\n",
      "[Year=2013] Closest words to 'neural networks': convolutional neural networks, recurrent neural networks, representation learning, speech recognition, backpropagation\n",
      "[Year=2013] Closest words to 'bias': statistical significance, correlation function, cosmological parameters, atacama cosmology telescope, standard candles\n",
      "[Year=2013] Closest words to 'quantum computing': quantum complexity, tensor networks, quantum error correction, superconducting qubits, quantum algorithms\n",
      "[Year=2013] Closest words to 'quantum': source-channel coding, quantum correlations, stabilization, quantum information, wigner function\n",
      "[Year=2013] Closest words to 'gravitational waves': stochastic background, binary neutron stars, pulsar timing arrays, scalar-tensor gravity, compact binaries\n",
      "[Year=2013] Closest words to 'decision making': image denoising, artificial intelligence, dirichlet distribution, high-dimensional data, active learning\n",
      "File: checkpoints/title_llm_extracted_keyword/word2vec/word2vec_2014.model Creation: 2024-08-24 23:19:43, Last Modified: 2024-08-24 23:19:43\n",
      "#Words (Year 2014): 11122\n",
      "[Year=2014] Closest words to 'artificial intelligence': semantic web, word representations, information retrieval, recurrent neural networks, object recognition\n",
      "[Year=2014] Closest words to 'machine learning': natural language processing, supervised learning, convolutional neural network, computer vision, unsupervised learning\n",
      "[Year=2014] Closest words to 'deep learning': object detection, image recognition, domain adaptation, multi-task learning, speech recognition\n",
      "[Year=2014] Closest words to 'natural language processing': supervised learning, computer vision, recurrent neural networks, feature learning, metric learning\n",
      "[Year=2014] Closest words to 'optimization': multi-agent optimization, error estimation, matlab, strong duality, market dynamics\n",
      "[Year=2014] Closest words to 'attention': popularity, initialization, urban, text mining, fine-grained\n",
      "[Year=2014] Closest words to 'neural networks': convolutional neural networks, convolutional neural network, metric learning, face recognition, human pose estimation\n",
      "[Year=2014] Closest words to 'bias': approximate bayesian computation, covariance matrix, scale, efficient method, image analysis\n",
      "[Year=2014] Closest words to 'quantum computing': surface codes, surface code, stabilizer codes, quantum computation, quantum error correction\n",
      "[Year=2014] Closest words to 'quantum': classical, hybrid, fluctuation theorems, landau equation, fractional dynamics\n",
      "[Year=2014] Closest words to 'gravitational waves': gravitational-wave, gravitational wave, compact binaries, initial data, neutron star merger\n",
      "[Year=2014] Closest words to 'decision making': collaborative, potential energy surface, active learning, text mining, robust optimization\n",
      "File: checkpoints/title_llm_extracted_keyword/word2vec/word2vec_2015.model Creation: 2024-08-24 23:20:03, Last Modified: 2024-08-24 23:20:03\n",
      "#Words (Year 2015): 12044\n",
      "[Year=2015] Closest words to 'artificial intelligence': automatic, indoor localization, similarity search, preference learning, visual analysis\n",
      "[Year=2015] Closest words to 'machine learning': ethics, data visualization, understanding, optimal rates, granger causality\n",
      "[Year=2015] Closest words to 'deep learning': sketch-based, feature representation, hardware accelerators, model compression, granger causality\n",
      "[Year=2015] Closest words to 'natural language processing': object recognition, question answering, image generation, unsupervised learning, deep convolutional neural networks\n",
      "[Year=2015] Closest words to 'nlp': relation extraction, multi-label classification, scientific papers, sparql, fpgas\n",
      "[Year=2015] Closest words to 'optimization': approximate algorithms, convex optimization, polynomial optimization, distributed optimization, proximal point algorithm\n",
      "[Year=2015] Closest words to 'language model': english, image recognition, word embedding, visual attention, speaker recognition\n",
      "[Year=2015] Closest words to 'attention': relation classification, deep reinforcement learning, backpropagation, action recognition, sequence labeling\n",
      "[Year=2015] Closest words to 'neural networks': autonomous driving, single image, facial expression recognition, uncertainty modeling, siamese network\n",
      "[Year=2015] Closest words to 'bias': confidence intervals, contamination, krylov subspaces, mutation, natural selection\n",
      "[Year=2015] Closest words to 'quantum computing': quantum computation, quantum error correction, surface code, quantum simulation, surface codes\n",
      "[Year=2015] Closest words to 'quantum': quantum metrology, secure multi-party computation, crystallization, quantum measurement, quantum field theories\n",
      "[Year=2015] Closest words to 'gravitational waves': continuous gravitational waves, numerical relativity, gravitational wave detection, mean-field limit, gravitational wave detectors\n",
      "[Year=2015] Closest words to 'decision making': accelerated, variational approach, knowledge, quantum channels, ontology\n",
      "File: checkpoints/title_llm_extracted_keyword/word2vec/word2vec_2016.model Creation: 2024-08-24 23:20:25, Last Modified: 2024-08-24 23:20:25\n",
      "#Words (Year 2016): 13256\n",
      "[Year=2016] Closest words to 'artificial intelligence': recommendation systems, personalized, human-robot interaction, adversarial attacks, adversarial learning\n",
      "[Year=2016] Closest words to 'machine learning': higher education, anomaly detection, framework, wavefunction, data generation\n",
      "[Year=2016] Closest words to 'deep learning': fine-grained, computational model, performance guarantee, video-based, grammatical error correction\n",
      "[Year=2016] Closest words to 'natural language processing': text classification, dependency parsing, reading comprehension, multilingual, grammars\n",
      "[Year=2016] Closest words to 'nlp': peer review, undergraduate, open-source, distant supervision, action segmentation\n",
      "[Year=2016] Closest words to 'optimization': non-monotone, multiobjective optimization, non-convex optimization, convex optimization, inversion\n",
      "[Year=2016] Closest words to 'language model': vision-based, metric learning, natural language inference, aspect-based sentiment analysis, 3d object detection\n",
      "[Year=2016] Closest words to 'attention': dependency parsing, automatic annotation, untrimmed videos, gesture recognition, reading comprehension\n",
      "[Year=2016] Closest words to 'neural networks': marine mammals, video classification, cost-sensitive learning, image super-resolution, facial expression\n",
      "[Year=2016] Closest words to 'bias': forward modeling, fine structure constant, redshift-space distortions, epoch of reionization, galaxy clustering\n",
      "[Year=2016] Closest words to 'quantum computing': quantum computation, surface codes, quantum algorithms, topological codes, quantum gates\n",
      "[Year=2016] Closest words to 'quantum': anharmonic, quantum correlations, optical networks, subsystems, classical\n",
      "[Year=2016] Closest words to 'gravitational waves': gravitational-wave detectors, nanograv, gravitational-wave, short gamma-ray bursts, advanced ligo\n",
      "[Year=2016] Closest words to 'decision making': stochastic block model, large networks, compositional, collaborative learning, distributed computation\n",
      "File: checkpoints/title_llm_extracted_keyword/word2vec/word2vec_2017.model Creation: 2024-08-24 23:20:47, Last Modified: 2024-08-24 23:20:47\n",
      "#Words (Year 2017): 14547\n",
      "[Year=2017] Closest words to 'artificial intelligence': ethics, human-machine interaction, human-in-the-loop, interactive learning, moba games\n",
      "[Year=2017] Closest words to 'machine learning': gait analysis, large eddy simulations, accuracy, education, automated reasoning\n",
      "[Year=2017] Closest words to 'deep learning': adversarial network, egocentric, learning, video-based, deep convolutional networks\n",
      "[Year=2017] Closest words to 'natural language processing': relation extraction, chinese, attention mechanism, named entity recognition, cross-lingual\n",
      "[Year=2017] Closest words to 'nlp': customer service, university, us presidential election, dynamic time warping, perceptions\n",
      "[Year=2017] Closest words to 'optimization': nonconvex optimization, longest common subsequence, distributed optimization, non-convex optimization, optimal stopping\n",
      "[Year=2017] Closest words to 'language model': probabilistic programs, symbolic regression, intrusion detection system, principal components, model interpretability\n",
      "[Year=2017] Closest words to 'attention': user behavior modeling, semantic analysis, generative model, image search, multi-person\n",
      "[Year=2017] Closest words to 'neural networks': linguistic features, english, neural architectures, hindi, metallic glass\n",
      "[Year=2017] Closest words to 'transformer': time-series, power grid, kernel regression, click-through rate prediction, neural decoding\n",
      "[Year=2017] Closest words to 'bias': model misspecification, likelihood, software architecture, wavelet analysis, recalibration\n",
      "[Year=2017] Closest words to 'quantum computing': quantum computation, quantum error correction, surface codes, superconducting qubits, transmon qubits\n",
      "[Year=2017] Closest words to 'quantum': contact mechanics, time-reversal, quantum optics, granular media, classical\n",
      "[Year=2017] Closest words to 'gravitational waves': numerical relativity, ligo, binary mergers, active control, compact binary coalescences\n",
      "[Year=2017] Closest words to 'decision making': information acquisition, parameter tuning, random projections, ant colony optimization, function approximation\n",
      "File: checkpoints/title_llm_extracted_keyword/word2vec/word2vec_2018.model Creation: 2024-08-24 23:21:09, Last Modified: 2024-08-24 23:21:09\n",
      "#Words (Year 2018): 16373\n",
      "[Year=2018] Closest words to 'artificial intelligence': ethics, lstm network, public sector, optical networks, software engineering\n",
      "[Year=2018] Closest words to 'machine learning': methodology, rna, computational, barriers, neuron\n",
      "[Year=2018] Closest words to 'deep learning': microphone arrays, 3d reconstruction, resnets, single-view, facial landmark detection\n",
      "[Year=2018] Closest words to 'natural language processing': cross-lingual, multilingual, data retrieval, question generation, knowledge graph\n",
      "[Year=2018] Closest words to 'nlp': low resource, natural language understanding, end-to-end model, named entities, machine reading comprehension\n",
      "[Year=2018] Closest words to 'optimization': stochastic optimization, topology optimization, adjoint method, global optimization, sequential circuits\n",
      "[Year=2018] Closest words to 'language model': answer selection, patching, neural language models, speaker diarization, pretraining\n",
      "[Year=2018] Closest words to 'attention': clinical, long short-term memory, language understanding, audio-visual, visual place recognition\n",
      "[Year=2018] Closest words to 'neural networks': weak supervision, neural network compression, air, computational imaging, neural machine translation\n",
      "[Year=2018] Closest words to 'transformer': ctc, topic model, sentence simplification, speech processing, low resource\n",
      "[Year=2018] Closest words to 'bias': insight, likelihood, early detection, source code, stack overflow\n",
      "[Year=2018] Closest words to 'quantum computing': quantum gates, quantum computation, quantum algorithms, quantum repeater, communication complexity\n",
      "[Year=2018] Closest words to 'quantum': non-markovian, deformed, modified, noncommutativity, many-body\n",
      "[Year=2018] Closest words to 'gravitational waves': numerical relativity, advanced ligo, gravitational-wave background, tidal effects, three-dimensional simulations\n",
      "[Year=2018] Closest words to 'decision making': probabilistic programs, trajectory generation, continuous variables, bipartite networks, optimal choice\n",
      "File: checkpoints/title_llm_extracted_keyword/word2vec/word2vec_2019.model Creation: 2024-08-24 23:21:32, Last Modified: 2024-08-24 23:21:32\n",
      "#Words (Year 2019): 17958\n",
      "[Year=2019] Closest words to 'artificial intelligence': agi, autonomy, acceptance, authorship, intensive care\n",
      "[Year=2019] Closest words to 'machine learning': python library, personality traits, interpretability, prevention, feature importance\n",
      "[Year=2019] Closest words to 'deep learning': imaging techniques, fast algorithm, generative adversarial network, education technology, deep convolutional neural network\n",
      "[Year=2019] Closest words to 'natural language processing': automatic evaluation, contextualized embeddings, world knowledge, query-based, answer selection\n",
      "[Year=2019] Closest words to 'nlp': dutch, clinical, small models, aspect-based sentiment analysis, entity recognition\n",
      "[Year=2019] Closest words to 'optimization': large-scale optimization, oracle, optimization algorithms, portfolio optimization, minor embedding\n",
      "[Year=2019] Closest words to 'language model': language identification, language modelling, syntax, monolingual data, patent\n",
      "[Year=2019] Closest words to 'attention': self-attention, video question answering, attentive, multi-granularity, compositional reasoning\n",
      "[Year=2019] Closest words to 'neural networks': efficient coding, datalog, observational study, deep relu networks, relu networks\n",
      "[Year=2019] Closest words to 'transformer': code-switching, non-autoregressive, response generation, quality estimation, neural\n",
      "[Year=2019] Closest words to 'transformers': state-of-the-art, commonsense, compositional generalization, beam search, multi-turn\n",
      "[Year=2019] Closest words to 'bias': job recommendation, gravity models, monte carlo sampling, semantic representation, principles\n",
      "[Year=2019] Closest words to 'quantum computing': polar codes, quantum computation, subsystem codes, proof systems, subspace codes\n",
      "[Year=2019] Closest words to 'quantum': analogues, chaotic system, state, wireless information transfer, capacity-achieving\n",
      "[Year=2019] Closest words to 'gravitational waves': numerical relativity, gravitational wave astronomy, advanced ligo, continuous gravitational waves, gravitational radiation\n",
      "[Year=2019] Closest words to 'decision making': prospect theory, econometrics, sequential decision making, inverse reinforcement learning, mean field game\n",
      "File: checkpoints/title_llm_extracted_keyword/word2vec/word2vec_2020.model Creation: 2024-08-24 23:21:56, Last Modified: 2024-08-24 23:21:56\n",
      "#Words (Year 2020): 19850\n",
      "[Year=2020] Closest words to 'artificial intelligence': research, ethics, ai, environmental impact, land use\n",
      "[Year=2020] Closest words to 'machine learning': high-speed, in silico, structural models, length scales, empirical\n",
      "[Year=2020] Closest words to 'deep learning': iris recognition, confocal microscopy, deep convolutional neural networks, quadrilateral meshes, deep image prior\n",
      "[Year=2020] Closest words to 'natural language processing': hebrew, algorithmic approach, code completion, long documents, swedish\n",
      "[Year=2020] Closest words to 'nlp': students, logical reasoning, model explanation, post-hoc, machine learning models\n",
      "[Year=2020] Closest words to 'optimization': condition numbers, ising machines, lossless, metaheuristic optimization, binary optimization\n",
      "[Year=2020] Closest words to 'language model': knowledge-grounded, task-oriented dialogue, open domain, finetuning, long documents\n",
      "[Year=2020] Closest words to 'attention': target speech extraction, tactile perception, transformer model, rnns, noise robustness\n",
      "[Year=2020] Closest words to 'neural networks': compositional modeling, recurrent neural networks, neural network pruning, vvc, scene graph\n",
      "[Year=2020] Closest words to 'transformer': mandarin, end-to-end model, lipreading, simultaneous translation, language identification\n",
      "[Year=2020] Closest words to 'transformers': pre-trained model, semantic analysis, transformer model, speech corpus, out-of-domain\n",
      "[Year=2020] Closest words to 'bias': algorithmic bias, intersectionality, field experiment, ai systems, traceability\n",
      "[Year=2020] Closest words to 'covid-19': covid-19 pandemic, quran, sars-cov-2, data sampling, lockdown measures\n",
      "[Year=2020] Closest words to 'sars-cov-2': india, brazil, europe, italy, mutations\n",
      "[Year=2020] Closest words to 'quantum computing': formal logic, quantum computation, anti-zeno effect, classical algorithms, classical simulation\n",
      "[Year=2020] Closest words to 'quantum': quantum imaging, mv-algebras, unitals, revolution, quantum states\n",
      "[Year=2020] Closest words to 'gravitational waves': lisa, gw190521, gravitational-wave events, gw170817, binary black hole mergers\n",
      "[Year=2020] Closest words to 'decision making': theory of mind, sequential decision-making, unknown systems, real-world applications, persuasion\n",
      "File: checkpoints/title_llm_extracted_keyword/word2vec/word2vec_2021.model Creation: 2024-08-24 23:22:21, Last Modified: 2024-08-24 23:22:21\n",
      "#Words (Year 2021): 20417\n",
      "[Year=2021] Closest words to 'artificial intelligence': ethics, biology, trustworthy ai, bot, human-centered ai\n",
      "[Year=2021] Closest words to 'machine learning': interpretable machine learning, machine-learning, correlation matrices, mechanical behavior, student performance\n",
      "[Year=2021] Closest words to 'deep learning': shear thinning, presentation attack detection, audio signals, ultrasonic imaging, electrocardiogram\n",
      "[Year=2021] Closest words to 'natural language processing': natural language generation, biomedical domain, conversational search, lexical semantics, formal language theory\n",
      "[Year=2021] Closest words to 'nlp': nlg, multilingualism, cross-language, code completion, document ranking\n",
      "[Year=2021] Closest words to 'optimization': datacenter networks, proximal algorithms, preconditioners, optimization algorithm, risk measures\n",
      "[Year=2021] Closest words to 'large language models': conversational agents, implicit knowledge, large-scale models, citation recommendation, dialog systems\n",
      "[Year=2021] Closest words to 'language model': virtual assistants, dependency parsing, downstream tasks, multi-lingual, parameter-efficient\n",
      "[Year=2021] Closest words to 'attention': rnn, multi-stage, sparse attention, efficient model, human parsing\n",
      "[Year=2021] Closest words to 'neural networks': physics informed neural networks, multilevel monte carlo, bayesian neural networks, structural constraints, graph networks\n",
      "[Year=2021] Closest words to 'transformer': attention-guided, voxceleb, missing observations, transformer network, text retrieval\n",
      "[Year=2021] Closest words to 'transformers': video quality assessment, mixed-initiative, flow guidance, multi-stage, temporal context\n",
      "[Year=2021] Closest words to 'bias': equitable, computer science, intersectionality, counterfactual inference, data imbalance\n",
      "[Year=2021] Closest words to 'covid-19': tuberculosis, bots, covid-19 pandemic, social determinants, impact assessment\n",
      "[Year=2021] Closest words to 'sars-cov-2': infections, transmission dynamics, income inequality, infection, treatment\n",
      "[Year=2021] Closest words to 'quantum computing': quantum computation, quadratic unconstrained binary optimization, dihedral group, quantum metrology, classical algorithms\n",
      "[Year=2021] Closest words to 'quantum': $k$-theory, quantum state, semilattices, formaldehyde, quantum thermodynamics\n",
      "[Year=2021] Closest words to 'gravitational waves': compact binaries, gravitational waveforms, numerical relativity, ligo-virgo, gravitational-wave background\n",
      "[Year=2021] Closest words to 'decision making': rational inattention, preference learning, value of information, behavioral economics, gas networks\n",
      "File: checkpoints/title_llm_extracted_keyword/word2vec/word2vec_2022.model Creation: 2024-08-24 23:22:46, Last Modified: 2024-08-24 23:22:46\n",
      "#Words (Year 2022): 21125\n",
      "[Year=2022] Closest words to 'artificial intelligence': bangladesh, classroom, software quality, public transit, report generation\n",
      "[Year=2022] Closest words to 'machine learning': living cells, pencil beam scanning, machine-learning, machine learning techniques, glass-forming liquids\n",
      "[Year=2022] Closest words to 'deep learning': data-driven analysis, performance improvement, microphone arrays, medical imaging, variational model\n",
      "[Year=2022] Closest words to 'natural language processing': entity-centric, open-domain qa, cross-lingual retrieval, slot filling, parallel data\n",
      "[Year=2022] Closest words to 'nlp': social media data, knowledge management, peer review, stack overflow, strategies\n",
      "[Year=2022] Closest words to 'optimization': logic-based, low-rank matrix recovery, stochastic optimization, convex programming, sparse signals\n",
      "[Year=2022] Closest words to 'large language models': relation classification, figurative language, multi-document summarization, pronoun resolution, reading comprehension\n",
      "[Year=2022] Closest words to 'language model': masked language models, citation, evidence retrieval, multi-document summarization, query generation\n",
      "[Year=2022] Closest words to 'attention': convolutional, demographic bias, spoofing detection, lexicon, deep convolutional neural network\n",
      "[Year=2022] Closest words to 'neural networks': multi-view reconstruction, optimal policy, guiding, fft, ode models\n",
      "[Year=2022] Closest words to 'transformer': point cloud generation, single-image, memory network, shape generation, handwriting recognition\n",
      "[Year=2022] Closest words to 'transformers': global attention, attention model, robustification, multi-view contrastive learning, multimodal learning\n",
      "[Year=2022] Closest words to 'bias': race, peer review, research landscape, dermatology, news articles\n",
      "[Year=2022] Closest words to 'covid-19': sars-cov-2, monkeypox, epidemic model, quarantine, vaccination\n",
      "[Year=2022] Closest words to 'sars-cov-2': quarantine, transmission dynamics, compartmental models, vaccination, vaccine hesitancy\n",
      "[Year=2022] Closest words to 'quantum computing': quantum computation, abstract interpretation, variational algorithms, surface code, superconducting qubits\n",
      "[Year=2022] Closest words to 'quantum': laser frequency stabilization, analog, local limit theorems, semiquantum, quantumness\n",
      "[Year=2022] Closest words to 'gravitational waves': gravitational-wave background, gravitational-wave signals, post-newtonian expansion, gravitational wave, lisa\n",
      "[Year=2022] Closest words to 'decision making': dueling bandits, partial identification, optimal strategy, electricity market, renewables\n",
      "File: checkpoints/title_llm_extracted_keyword/word2vec/word2vec_2023.model Creation: 2024-08-24 23:23:21, Last Modified: 2024-08-24 23:23:21\n",
      "#Words (Year 2023): 43807\n",
      "[Year=2023] Closest words to 'artificial intelligence': labor supply, clinical settings, cyber insurance, hard colloids, styles\n",
      "[Year=2023] Closest words to 'machine learning': austenitic steels, external-target experiment, lubricated contacts, cloud fpgas, lensless imaging\n",
      "[Year=2023] Closest words to 'deep learning': size-segregation, cross-modality attention, linear temporal properties, confocal microscopy, data-driven signal processing\n",
      "[Year=2023] Closest words to 'natural language processing': research impact, pyserini, medical question answering, zero-resource, robust ai\n",
      "[Year=2023] Closest words to 'nlp': reproducible research, computational creativity, computational experiments, policy implications, pyserini\n",
      "[Year=2023] Closest words to 'optimization': parameter uncertainty, qr decomposition, efficient implementation, single-source shortest path, minor embedding\n",
      "[Year=2023] Closest words to 'large language models': ai-enabled cyber-physical systems, ai-based solutions, hardware designs, interpretable ai, compositional approach\n",
      "[Year=2023] Closest words to 'llm': interpretable ai, violence, shared task, literature-based discovery, video recommendation\n",
      "[Year=2023] Closest words to 'language model': marketplaces, tag prediction, interpretable ai, video recommendation, lifted planning\n",
      "[Year=2023] Closest words to 'attention': unwrapping, multitasking, bandwidth-efficient, explainable detection, glove\n",
      "[Year=2023] Closest words to 'neural networks': mobile communication, inductive programming, ieee 1788-2015, fiber orientation, probabilistic graphical model\n",
      "[Year=2023] Closest words to 'transformer': rls, user interactions, instrument segmentation, spatio-temporal context, masked transformer\n",
      "[Year=2023] Closest words to 'transformers': discrete weights, relation recognition, hierarchical pretraining, energy resolution, complex collectives\n",
      "[Year=2023] Closest words to 'bias': eu non-discrimination law, impossibility theorem, multiwinner elections, citation inflation, disruption index\n",
      "[Year=2023] Closest words to 'covid-19': hospitalization, lockdowns, oman, age-specific, pulmonary embolism\n",
      "[Year=2023] Closest words to 'sars-cov-2': follow-up analysis, wastewater, viral dynamics, reproduction number, temporal trends\n",
      "[Year=2023] Closest words to 'quantum computing': mutual authentication, non-unitary dynamics, superconducting quantum simulator, sequential generation, quantum simulations\n",
      "[Year=2023] Closest words to 'quantum': secure ranging, non-square matrices, emergent hydrodynamics, compliant, quantum nondemolition measurements\n",
      "[Year=2023] Closest words to 'gravitational waves': gravitational-wave signals, gravitational self-force, gravitational wave detectors, function representation, mildly relativistic outflows\n",
      "[Year=2023] Closest words to 'decision making': reference point, unawareness, implicit knowledge, ambiguity attitudes, recursive preferences\n",
      "[Year=2023] Closest words to 'decision': calculus of relations, dependently-typed, automated theorem proving, structurally sparse graphs, stable model semantics\n",
      "File: checkpoints/title_llm_extracted_keyword/word2vec/word2vec_2024.model Creation: 2024-08-24 23:23:35, Last Modified: 2024-08-24 23:23:35\n",
      "#Words (Year 2024): 14833\n",
      "[Year=2024] Closest words to 'artificial intelligence': linked open data, empirical study, ai ethics, biophysics, mortality\n",
      "[Year=2024] Closest words to 'machine learning': message-passing, bitcoin, mechanical properties, machine-learning, preprocessing\n",
      "[Year=2024] Closest words to 'deep learning': blood pressure, deformable registration, breast cancer, foundation model, deep learning models\n",
      "[Year=2024] Closest words to 'natural language processing': trec, minimum bayes risk decoding, literature, natural language generation, biomedical literature\n",
      "[Year=2024] Closest words to 'nlp': static analysis, transformer-based language models, counterspeech, trec, low-resource languages\n",
      "[Year=2024] Closest words to 'optimization': approximation algorithms, constraint programming, optimisation, multivariate functions, maxsat\n",
      "[Year=2024] Closest words to 'large language models': neural machine translation, generative language models, language agents, pre-trained language models, mlops\n",
      "[Year=2024] Closest words to 'llm': generative language models, free, neural machine translation, llm-powered, rationalization\n",
      "[Year=2024] Closest words to 'language model': generative retrieval, free, entailment, retrieval-augmented language models, masked language models\n",
      "[Year=2024] Closest words to 'attention': cnns, resnet, skin lesion segmentation, rnn, hardware-friendly\n",
      "[Year=2024] Closest words to 'neural networks': inverse regression, unique, deep neural networks, neural fields, data-dependent\n",
      "[Year=2024] Closest words to 'transformer': transformer model, hardware-friendly, noise reduction, vit, robust model\n",
      "[Year=2024] Closest words to 'transformers': information-theoretic, residual connections, regular languages, scaling law, linear complexity\n",
      "[Year=2024] Closest words to 'bias': variance, signaling, stereotypes, image classifiers, search engines\n",
      "[Year=2024] Closest words to 'covid-19': myocardial infarction, bayesian regression, prevention, spain, dementia\n",
      "[Year=2024] Closest words to 'sars-cov-2': dielectric properties, computer architecture, combinatorial identities, gibbs measures, algebraic framework\n",
      "[Year=2024] Closest words to 'quantum computing': quantum computation, quantum error correction, quantum circuits, quantum approximate optimization algorithm, quantum algorithm\n",
      "[Year=2024] Closest words to 'quantum': problem, quantum computation, magnetometry, quantum secret sharing, bent functions\n",
      "[Year=2024] Closest words to 'gravitational waves': lisa, massive black hole binaries, scalar-tensor theory, scalar-gauss-bonnet gravity, numerical relativity\n",
      "[Year=2024] Closest words to 'decision making': abstention, persuasion, risk aversion, multi-agent communication, optimal stopping\n"
     ]
    }
   ],
   "source": [
    "year_to_num_words = {}\n",
    "\n",
    "for (start, end) in iterator:\n",
    "\n",
    "    \n",
    "\n",
    "    if args.model_name == const.WORD2VEC:\n",
    "\n",
    "        model_path = osp.join(args.checkpoint_dir, f\"{args.feature_name}_{args.tokenization_mode}\", args.model_name,\n",
    "                              f\"{args.model_name}_{start.year}.model\")\n",
    "\n",
    "        get_file_times(model_path)\n",
    "\n",
    "        model = Word2Vec.load(model_path)\n",
    "        embed = Embedding(model.wv.vectors, model.wv.index_to_key, normalize=True)\n",
    "\n",
    "\n",
    "    elif args.model_name == const.GCN:\n",
    "\n",
    "        model_path = osp.join(args.checkpoint_dir, f\"{args.feature_name}_{args.tokenization_mode}\", args.model_name,\n",
    "                              f\"{args.model_name}_{start.year}.pkl\")\n",
    "\n",
    "        with open(model_path, \"rb\") as f:\n",
    "            d = pickle.load(f)\n",
    "\n",
    "        node_mapping = d['node_mapping']\n",
    "        embed = d['embed']\n",
    "\n",
    "        embed = Embedding(embed.numpy(), list(node_mapping.keys()), normalize=True)\n",
    "\n",
    "        get_file_times(model_path)\n",
    "\n",
    "    else:\n",
    "        raise NotImplementedError\n",
    "\n",
    "    keyword_counts_snapshot = keywords[keywords['year'] == args.base_year].explode('keywords').groupby('keywords').size()\n",
    "\n",
    "    embed = embed.get_subembed(\n",
    "        keyword_counts_snapshot[keyword_counts_snapshot >= args.min_occurrences].index.tolist())\n",
    "\n",
    "    year_to_num_words[start] = len(embed.iw)\n",
    "\n",
    "    print(f\"#Words (Year {start.year}): {len(embed.iw)}\")\n",
    "\n",
    "    print(f\"Loading model from {model_path} ...\", end='\\r')\n",
    "\n",
    "    valid_words_mask_cur_year = embed.m.sum(axis=1) != 0\n",
    "\n",
    "    words_current_year = set(np.array(embed.iw)[valid_words_mask_cur_year])\n",
    "\n",
    "    if start.year == args.base_year:\n",
    "        # base_embedding is the year we want to plot the scatterplot\n",
    "        aligned_embed = embed\n",
    "\n",
    "\n",
    "    else:\n",
    "        aligned_embed = alignment.smart_procrustes_align(base_embed, embed)\n",
    "        # aligned_embed = procrustes_align(base_embed, embed, words_current_year & words_base_embeds)\n",
    "\n",
    "    highlighted_words_embed = aligned_embed.get_subembed(highlighted_words)\n",
    "\n",
    "    for word1 in highlighted_words:\n",
    "        \"\"\"\n",
    "        closest_words_and_similarity:\n",
    "        [\n",
    "            (similarity1, word1), # The 1st entry corresponds to word1 itself\n",
    "            (similarity2, word2), # The 2nd entry is the most similar word to word1\n",
    "            ...\n",
    "        ]\n",
    "        \"\"\"\n",
    "        if embed.wi.get(word1) is None:\n",
    "            highlighted_words_embed_dict[word1][start.year] = None\n",
    "            continue\n",
    "\n",
    "        closest_words_and_similarity = embed.closest(word1, n=len(embed.iw))\n",
    "\n",
    "        print(f\"[Year={start.year}] Closest words to '{word1}': \"\n",
    "              f\"{', '.join([word for _, word in closest_words_and_similarity[1:6]])}\")\n",
    "\n",
    "        closest_words_ranking = {word2: i for i, (_, word2) in enumerate(closest_words_and_similarity)}\n",
    "\n",
    "        # Annotate some nodes in the background\n",
    "        # We only consider the top 5 closest words in each year\n",
    "        nearest_neighbors.update([word for i, (_, word) in enumerate(closest_words_and_similarity) if (1 <= i <=\n",
    "                                                                                                       5)])\n",
    "\n",
    "        if word1 in highlighted_words_embed.wi:\n",
    "            highlighted_words_embed_dict[word1][start.year] = highlighted_words_embed.m[\n",
    "                highlighted_words_embed.wi[word1]].astype(np.float32)\n",
    "\n",
    "        else:\n",
    "            highlighted_words_embed_dict[word1][start.year] = None\n",
    "\n",
    "    embed_previous_year = embed\n",
    "    words_previous_year = words_current_year\n"
   ]
  },
  {
   "cell_type": "code",
   "execution_count": 12,
   "id": "ab857b1b-41a8-429e-a3f7-ca6017e4a3dc",
   "metadata": {},
   "outputs": [
    {
     "data": {
      "text/plain": [
       "8943.870967741936"
      ]
     },
     "execution_count": 12,
     "metadata": {},
     "output_type": "execute_result"
    }
   ],
   "source": [
    "np.mean(list(year_to_num_words.values()))"
   ]
  },
  {
   "cell_type": "code",
   "execution_count": 13,
   "id": "296ee744-ee59-49fa-8f49-291ecee9b1c7",
   "metadata": {
    "scrolled": true
   },
   "outputs": [
    {
     "name": "stdout",
     "output_type": "stream",
     "text": [
      "--------------------------------------------------------------------------------\n",
      "TSNE(early_exaggeration=12, metric='cosine', n_iter=300, verbose=True)\n",
      "--------------------------------------------------------------------------------\n",
      "===> Finding 90 nearest neighbors using Annoy approximate search using cosine distance...\n",
      "   --> Time elapsed: 38.40 seconds\n",
      "===> Calculating affinity matrix...\n",
      "   --> Time elapsed: 0.66 seconds\n",
      "===> Calculating PCA-based initialization...\n",
      "   --> Time elapsed: 0.09 seconds\n",
      "===> Running optimization with exaggeration=12.00, lr=3650.58 for 250 iterations...\n",
      "Iteration   50, KL divergence 6.0611, 50 iterations in 2.5081 sec\n",
      "Iteration  100, KL divergence 6.1661, 50 iterations in 2.3892 sec\n",
      "Iteration  150, KL divergence 6.1660, 50 iterations in 2.3971 sec\n",
      "Iteration  200, KL divergence 6.1571, 50 iterations in 2.3774 sec\n",
      "Iteration  250, KL divergence 6.1574, 50 iterations in 2.3983 sec\n",
      "   --> Time elapsed: 12.07 seconds\n",
      "===> Running optimization with exaggeration=1.00, lr=43807.00 for 300 iterations...\n",
      "Iteration   50, KL divergence 3.7214, 50 iterations in 2.3738 sec\n",
      "Iteration  100, KL divergence 3.4903, 50 iterations in 2.8267 sec\n",
      "Iteration  150, KL divergence 3.3808, 50 iterations in 3.6821 sec\n",
      "Iteration  200, KL divergence 3.3133, 50 iterations in 4.1959 sec\n",
      "Iteration  250, KL divergence 3.2651, 50 iterations in 4.7772 sec\n",
      "Iteration  300, KL divergence 3.2298, 50 iterations in 5.1866 sec\n",
      "   --> Time elapsed: 23.04 seconds\n",
      "===> Finding 15 nearest neighbors in existing embedding using Annoy approximate search...\n",
      "   --> Time elapsed: 0.01 seconds\n",
      "===> Calculating affinity matrix...\n",
      "   --> Time elapsed: 0.00 seconds\n",
      "===> Running optimization with exaggeration=4.00, lr=0.10 for 0 iterations...\n",
      "   --> Time elapsed: 0.00 seconds\n",
      "===> Running optimization with exaggeration=1.50, lr=0.10 for 250 iterations...\n",
      "Iteration   50, KL divergence 207.1704, 50 iterations in 0.6543 sec\n",
      "Iteration  100, KL divergence 202.1668, 50 iterations in 0.6644 sec\n",
      "Iteration  150, KL divergence 202.1377, 50 iterations in 0.6476 sec\n",
      "Iteration  200, KL divergence 202.1379, 50 iterations in 0.5946 sec\n",
      "Iteration  250, KL divergence 202.1379, 50 iterations in 0.6382 sec\n",
      "   --> Time elapsed: 3.20 seconds\n",
      "===> Finding 15 nearest neighbors in existing embedding using Annoy approximate search...\n",
      "   --> Time elapsed: 0.01 seconds\n",
      "===> Calculating affinity matrix...\n",
      "   --> Time elapsed: 0.00 seconds\n",
      "===> Running optimization with exaggeration=4.00, lr=0.10 for 0 iterations...\n",
      "   --> Time elapsed: 0.00 seconds\n",
      "===> Running optimization with exaggeration=1.50, lr=0.10 for 250 iterations...\n",
      "Iteration   50, KL divergence 303.0874, 50 iterations in 0.5967 sec\n",
      "Iteration  100, KL divergence 285.9813, 50 iterations in 0.6689 sec\n",
      "Iteration  150, KL divergence 283.0287, 50 iterations in 0.5877 sec\n",
      "Iteration  200, KL divergence 281.7635, 50 iterations in 0.5868 sec\n",
      "Iteration  250, KL divergence 281.7611, 50 iterations in 0.5865 sec\n",
      "   --> Time elapsed: 3.03 seconds\n",
      "===> Finding 15 nearest neighbors in existing embedding using Annoy approximate search...\n",
      "   --> Time elapsed: 0.01 seconds\n",
      "===> Calculating affinity matrix...\n",
      "   --> Time elapsed: 0.00 seconds\n",
      "===> Running optimization with exaggeration=4.00, lr=0.10 for 0 iterations...\n",
      "   --> Time elapsed: 0.00 seconds\n",
      "===> Running optimization with exaggeration=1.50, lr=0.10 for 250 iterations...\n",
      "Iteration   50, KL divergence 153.5837, 50 iterations in 0.5693 sec\n",
      "Iteration  100, KL divergence 148.7038, 50 iterations in 0.5689 sec\n",
      "Iteration  150, KL divergence 148.7009, 50 iterations in 0.5700 sec\n",
      "Iteration  200, KL divergence 148.7009, 50 iterations in 0.5731 sec\n",
      "Iteration  250, KL divergence 148.7009, 50 iterations in 0.5719 sec\n",
      "   --> Time elapsed: 2.85 seconds\n",
      "===> Finding 15 nearest neighbors in existing embedding using Annoy approximate search...\n",
      "   --> Time elapsed: 0.01 seconds\n",
      "===> Calculating affinity matrix...\n",
      "   --> Time elapsed: 0.00 seconds\n",
      "===> Running optimization with exaggeration=4.00, lr=0.10 for 0 iterations...\n",
      "   --> Time elapsed: 0.00 seconds\n",
      "===> Running optimization with exaggeration=1.50, lr=0.10 for 250 iterations...\n",
      "Iteration   50, KL divergence 271.1837, 50 iterations in 0.6001 sec\n",
      "Iteration  100, KL divergence 269.4124, 50 iterations in 0.5877 sec\n",
      "Iteration  150, KL divergence 269.4044, 50 iterations in 0.6081 sec\n",
      "Iteration  200, KL divergence 269.4044, 50 iterations in 0.5925 sec\n",
      "Iteration  250, KL divergence 269.4044, 50 iterations in 0.5907 sec\n",
      "   --> Time elapsed: 2.98 seconds\n",
      "===> Finding 15 nearest neighbors in existing embedding using Annoy approximate search...\n",
      "   --> Time elapsed: 0.00 seconds\n",
      "===> Calculating affinity matrix...\n",
      "   --> Time elapsed: 0.00 seconds\n",
      "===> Running optimization with exaggeration=4.00, lr=0.10 for 0 iterations...\n",
      "   --> Time elapsed: 0.00 seconds\n",
      "===> Running optimization with exaggeration=1.50, lr=0.10 for 250 iterations...\n",
      "Iteration   50, KL divergence 74.0562, 50 iterations in 0.5587 sec\n",
      "Iteration  100, KL divergence 73.9741, 50 iterations in 0.5648 sec\n",
      "Iteration  150, KL divergence 73.9741, 50 iterations in 0.5613 sec\n",
      "Iteration  200, KL divergence 73.9741, 50 iterations in 0.5617 sec\n",
      "Iteration  250, KL divergence 73.9741, 50 iterations in 0.5585 sec\n",
      "   --> Time elapsed: 2.81 seconds\n",
      "===> Finding 15 nearest neighbors in existing embedding using Annoy approximate search...\n",
      "   --> Time elapsed: 0.01 seconds\n",
      "===> Calculating affinity matrix...\n",
      "   --> Time elapsed: 0.00 seconds\n",
      "===> Running optimization with exaggeration=4.00, lr=0.10 for 0 iterations...\n",
      "   --> Time elapsed: 0.00 seconds\n",
      "===> Running optimization with exaggeration=1.50, lr=0.10 for 250 iterations...\n",
      "Iteration   50, KL divergence 287.3632, 50 iterations in 0.5867 sec\n",
      "Iteration  100, KL divergence 282.4012, 50 iterations in 0.5942 sec\n",
      "Iteration  150, KL divergence 279.6783, 50 iterations in 0.5812 sec\n",
      "Iteration  200, KL divergence 277.3218, 50 iterations in 0.5843 sec\n",
      "Iteration  250, KL divergence 276.0480, 50 iterations in 0.5851 sec\n",
      "   --> Time elapsed: 2.93 seconds\n",
      "===> Finding 15 nearest neighbors in existing embedding using Annoy approximate search...\n",
      "   --> Time elapsed: 0.00 seconds\n",
      "===> Calculating affinity matrix...\n",
      "   --> Time elapsed: 0.00 seconds\n",
      "===> Running optimization with exaggeration=4.00, lr=0.10 for 0 iterations...\n",
      "   --> Time elapsed: 0.00 seconds\n",
      "===> Running optimization with exaggeration=1.50, lr=0.10 for 250 iterations...\n",
      "Iteration   50, KL divergence 31.5566, 50 iterations in 0.5570 sec\n",
      "Iteration  100, KL divergence 31.5537, 50 iterations in 0.5547 sec\n",
      "Iteration  150, KL divergence 31.5537, 50 iterations in 0.5593 sec\n",
      "Iteration  200, KL divergence 31.5537, 50 iterations in 0.5569 sec\n",
      "Iteration  250, KL divergence 31.5537, 50 iterations in 0.5575 sec\n",
      "   --> Time elapsed: 2.79 seconds\n",
      "===> Finding 15 nearest neighbors in existing embedding using Annoy approximate search...\n",
      "   --> Time elapsed: 0.00 seconds\n",
      "===> Calculating affinity matrix...\n",
      "   --> Time elapsed: 0.00 seconds\n",
      "===> Running optimization with exaggeration=4.00, lr=0.10 for 0 iterations...\n",
      "   --> Time elapsed: 0.00 seconds\n",
      "===> Running optimization with exaggeration=1.50, lr=0.10 for 250 iterations...\n",
      "Iteration   50, KL divergence 13.2384, 50 iterations in 0.5617 sec\n",
      "Iteration  100, KL divergence 13.2210, 50 iterations in 0.5571 sec\n",
      "Iteration  150, KL divergence 13.2211, 50 iterations in 0.5574 sec\n",
      "Iteration  200, KL divergence 13.2211, 50 iterations in 0.5556 sec\n",
      "Iteration  250, KL divergence 13.2211, 50 iterations in 0.5541 sec\n",
      "   --> Time elapsed: 2.79 seconds\n",
      "===> Finding 15 nearest neighbors in existing embedding using Annoy approximate search...\n",
      "   --> Time elapsed: 0.00 seconds\n",
      "===> Calculating affinity matrix...\n",
      "   --> Time elapsed: 0.00 seconds\n",
      "===> Running optimization with exaggeration=4.00, lr=0.10 for 0 iterations...\n",
      "   --> Time elapsed: 0.00 seconds\n",
      "===> Running optimization with exaggeration=1.50, lr=0.10 for 250 iterations...\n",
      "Iteration   50, KL divergence 78.5842, 50 iterations in 0.5615 sec\n",
      "Iteration  100, KL divergence 73.9450, 50 iterations in 0.5659 sec\n",
      "Iteration  150, KL divergence 73.9375, 50 iterations in 0.5630 sec\n",
      "Iteration  200, KL divergence 73.9375, 50 iterations in 0.5632 sec\n",
      "Iteration  250, KL divergence 73.9375, 50 iterations in 0.5633 sec\n",
      "   --> Time elapsed: 2.82 seconds\n",
      "===> Finding 15 nearest neighbors in existing embedding using Annoy approximate search...\n",
      "   --> Time elapsed: 0.00 seconds\n",
      "===> Calculating affinity matrix...\n",
      "   --> Time elapsed: 0.00 seconds\n",
      "===> Running optimization with exaggeration=4.00, lr=0.10 for 0 iterations...\n",
      "   --> Time elapsed: 0.00 seconds\n",
      "===> Running optimization with exaggeration=1.50, lr=0.10 for 250 iterations...\n",
      "Iteration   50, KL divergence 97.1640, 50 iterations in 0.5696 sec\n",
      "Iteration  100, KL divergence 95.2693, 50 iterations in 0.5635 sec\n",
      "Iteration  150, KL divergence 95.2679, 50 iterations in 0.5654 sec\n",
      "Iteration  200, KL divergence 95.2679, 50 iterations in 0.5648 sec\n",
      "Iteration  250, KL divergence 95.2679, 50 iterations in 0.5671 sec\n",
      "   --> Time elapsed: 2.83 seconds\n",
      "===> Finding 15 nearest neighbors in existing embedding using Annoy approximate search...\n",
      "   --> Time elapsed: 0.01 seconds\n",
      "===> Calculating affinity matrix...\n",
      "   --> Time elapsed: 0.00 seconds\n",
      "===> Running optimization with exaggeration=4.00, lr=0.10 for 0 iterations...\n",
      "   --> Time elapsed: 0.00 seconds\n",
      "===> Running optimization with exaggeration=1.50, lr=0.10 for 250 iterations...\n",
      "Iteration   50, KL divergence 300.4100, 50 iterations in 0.5891 sec\n",
      "Iteration  100, KL divergence 291.8150, 50 iterations in 0.5852 sec\n",
      "Iteration  150, KL divergence 287.6442, 50 iterations in 0.5897 sec\n",
      "Iteration  200, KL divergence 284.8214, 50 iterations in 0.5860 sec\n",
      "Iteration  250, KL divergence 284.8147, 50 iterations in 0.6972 sec\n",
      "   --> Time elapsed: 3.05 seconds\n",
      "===> Finding 15 nearest neighbors in existing embedding using Annoy approximate search...\n",
      "   --> Time elapsed: 0.00 seconds\n",
      "===> Calculating affinity matrix...\n",
      "   --> Time elapsed: 0.00 seconds\n",
      "===> Running optimization with exaggeration=4.00, lr=0.10 for 0 iterations...\n",
      "   --> Time elapsed: 0.00 seconds\n",
      "===> Running optimization with exaggeration=1.50, lr=0.10 for 250 iterations...\n",
      "Iteration   50, KL divergence 65.0869, 50 iterations in 0.6004 sec\n",
      "Iteration  100, KL divergence 65.0322, 50 iterations in 0.6407 sec\n",
      "Iteration  150, KL divergence 65.0327, 50 iterations in 0.7235 sec\n",
      "Iteration  200, KL divergence 65.0327, 50 iterations in 0.6691 sec\n",
      "Iteration  250, KL divergence 65.0327, 50 iterations in 0.5621 sec\n",
      "   --> Time elapsed: 3.20 seconds\n",
      "===> Finding 15 nearest neighbors in existing embedding using Annoy approximate search...\n",
      "   --> Time elapsed: 0.00 seconds\n",
      "===> Calculating affinity matrix...\n",
      "   --> Time elapsed: 0.00 seconds\n",
      "===> Running optimization with exaggeration=4.00, lr=0.10 for 0 iterations...\n",
      "   --> Time elapsed: 0.00 seconds\n",
      "===> Running optimization with exaggeration=1.50, lr=0.10 for 250 iterations...\n",
      "Iteration   50, KL divergence 48.2954, 50 iterations in 0.6254 sec\n",
      "Iteration  100, KL divergence 48.1737, 50 iterations in 0.6146 sec\n",
      "Iteration  150, KL divergence 48.1732, 50 iterations in 0.5682 sec\n",
      "Iteration  200, KL divergence 48.1732, 50 iterations in 0.7251 sec\n",
      "Iteration  250, KL divergence 48.1732, 50 iterations in 0.6757 sec\n",
      "   --> Time elapsed: 3.21 seconds\n",
      "===> Finding 15 nearest neighbors in existing embedding using Annoy approximate search...\n",
      "   --> Time elapsed: 0.01 seconds\n",
      "===> Calculating affinity matrix...\n",
      "   --> Time elapsed: 0.00 seconds\n",
      "===> Running optimization with exaggeration=4.00, lr=0.10 for 0 iterations...\n",
      "   --> Time elapsed: 0.00 seconds\n",
      "===> Running optimization with exaggeration=1.50, lr=0.10 for 250 iterations...\n",
      "Iteration   50, KL divergence 144.5813, 50 iterations in 0.7564 sec\n",
      "Iteration  100, KL divergence 138.5094, 50 iterations in 0.7023 sec\n",
      "Iteration  150, KL divergence 135.1557, 50 iterations in 0.7676 sec\n",
      "Iteration  200, KL divergence 135.1562, 50 iterations in 0.7251 sec\n",
      "Iteration  250, KL divergence 135.1562, 50 iterations in 0.6539 sec\n",
      "   --> Time elapsed: 3.61 seconds\n",
      "===> Finding 15 nearest neighbors in existing embedding using Annoy approximate search...\n",
      "   --> Time elapsed: 0.00 seconds\n",
      "===> Calculating affinity matrix...\n",
      "   --> Time elapsed: 0.00 seconds\n",
      "===> Running optimization with exaggeration=4.00, lr=0.10 for 0 iterations...\n",
      "   --> Time elapsed: 0.00 seconds\n",
      "===> Running optimization with exaggeration=1.50, lr=0.10 for 250 iterations...\n",
      "Iteration   50, KL divergence 37.2257, 50 iterations in 0.7731 sec\n",
      "Iteration  100, KL divergence 37.2182, 50 iterations in 0.6482 sec\n",
      "Iteration  150, KL divergence 37.2180, 50 iterations in 0.5930 sec\n",
      "Iteration  200, KL divergence 37.2180, 50 iterations in 0.5710 sec\n",
      "Iteration  250, KL divergence 37.2180, 50 iterations in 0.5799 sec\n",
      "   --> Time elapsed: 3.17 seconds\n",
      "===> Finding 15 nearest neighbors in existing embedding using Annoy approximate search...\n",
      "   --> Time elapsed: 0.00 seconds\n",
      "===> Calculating affinity matrix...\n",
      "   --> Time elapsed: 0.00 seconds\n",
      "===> Running optimization with exaggeration=4.00, lr=0.10 for 0 iterations...\n",
      "   --> Time elapsed: 0.00 seconds\n",
      "===> Running optimization with exaggeration=1.50, lr=0.10 for 250 iterations...\n",
      "Iteration   50, KL divergence 32.1737, 50 iterations in 0.5583 sec\n",
      "Iteration  100, KL divergence 31.6130, 50 iterations in 0.5693 sec\n",
      "Iteration  150, KL divergence 31.6066, 50 iterations in 0.5560 sec\n",
      "Iteration  200, KL divergence 31.6084, 50 iterations in 0.7439 sec\n",
      "Iteration  250, KL divergence 31.6084, 50 iterations in 0.7501 sec\n",
      "   --> Time elapsed: 3.18 seconds\n",
      "===> Finding 15 nearest neighbors in existing embedding using Annoy approximate search...\n",
      "   --> Time elapsed: 0.01 seconds\n",
      "===> Calculating affinity matrix...\n",
      "   --> Time elapsed: 0.00 seconds\n",
      "===> Running optimization with exaggeration=4.00, lr=0.10 for 0 iterations...\n",
      "   --> Time elapsed: 0.00 seconds\n",
      "===> Running optimization with exaggeration=1.50, lr=0.10 for 250 iterations...\n",
      "Iteration   50, KL divergence 237.3224, 50 iterations in 0.7786 sec\n",
      "Iteration  100, KL divergence 237.0167, 50 iterations in 0.7461 sec\n",
      "Iteration  150, KL divergence 237.0151, 50 iterations in 0.7518 sec\n",
      "Iteration  200, KL divergence 237.0151, 50 iterations in 0.7278 sec\n",
      "Iteration  250, KL divergence 237.0151, 50 iterations in 0.7604 sec\n",
      "   --> Time elapsed: 3.77 seconds\n",
      "===> Finding 15 nearest neighbors in existing embedding using Annoy approximate search...\n",
      "   --> Time elapsed: 0.01 seconds\n",
      "===> Calculating affinity matrix...\n",
      "   --> Time elapsed: 0.00 seconds\n",
      "===> Running optimization with exaggeration=4.00, lr=0.10 for 0 iterations...\n",
      "   --> Time elapsed: 0.00 seconds\n",
      "===> Running optimization with exaggeration=1.50, lr=0.10 for 250 iterations...\n",
      "Iteration   50, KL divergence 297.4578, 50 iterations in 0.6342 sec\n",
      "Iteration  100, KL divergence 278.5955, 50 iterations in 0.5932 sec\n",
      "Iteration  150, KL divergence 278.0828, 50 iterations in 0.5896 sec\n",
      "Iteration  200, KL divergence 278.0822, 50 iterations in 0.5942 sec\n",
      "Iteration  250, KL divergence 278.0821, 50 iterations in 0.5892 sec\n",
      "   --> Time elapsed: 3.00 seconds\n",
      "===> Finding 15 nearest neighbors in existing embedding using Annoy approximate search...\n",
      "   --> Time elapsed: 0.01 seconds\n",
      "===> Calculating affinity matrix...\n",
      "   --> Time elapsed: 0.00 seconds\n",
      "===> Running optimization with exaggeration=4.00, lr=0.10 for 0 iterations...\n",
      "   --> Time elapsed: 0.00 seconds\n",
      "===> Running optimization with exaggeration=1.50, lr=0.10 for 250 iterations...\n",
      "Iteration   50, KL divergence 242.3193, 50 iterations in 0.5906 sec\n",
      "Iteration  100, KL divergence 242.1798, 50 iterations in 0.6205 sec\n",
      "Iteration  150, KL divergence 242.0485, 50 iterations in 0.6188 sec\n",
      "Iteration  200, KL divergence 242.0502, 50 iterations in 0.6586 sec\n",
      "Iteration  250, KL divergence 242.0502, 50 iterations in 0.7624 sec\n",
      "   --> Time elapsed: 3.25 seconds\n",
      "===> Finding 15 nearest neighbors in existing embedding using Annoy approximate search...\n",
      "   --> Time elapsed: 0.01 seconds\n",
      "===> Calculating affinity matrix...\n",
      "   --> Time elapsed: 0.00 seconds\n",
      "===> Running optimization with exaggeration=4.00, lr=0.10 for 0 iterations...\n",
      "   --> Time elapsed: 0.00 seconds\n",
      "===> Running optimization with exaggeration=1.50, lr=0.10 for 250 iterations...\n",
      "Iteration   50, KL divergence 193.9008, 50 iterations in 0.6465 sec\n",
      "Iteration  100, KL divergence 193.1251, 50 iterations in 0.6463 sec\n",
      "Iteration  150, KL divergence 188.5314, 50 iterations in 0.5746 sec\n",
      "Iteration  200, KL divergence 188.1739, 50 iterations in 0.6182 sec\n",
      "Iteration  250, KL divergence 188.1737, 50 iterations in 0.6118 sec\n",
      "   --> Time elapsed: 3.10 seconds\n",
      "===> Finding 15 nearest neighbors in existing embedding using Annoy approximate search...\n",
      "   --> Time elapsed: 0.00 seconds\n",
      "===> Calculating affinity matrix...\n",
      "   --> Time elapsed: 0.00 seconds\n",
      "===> Running optimization with exaggeration=4.00, lr=0.10 for 0 iterations...\n",
      "   --> Time elapsed: 0.00 seconds\n",
      "===> Running optimization with exaggeration=1.50, lr=0.10 for 250 iterations...\n",
      "Iteration   50, KL divergence 3.9171, 50 iterations in 0.6686 sec\n",
      "Iteration  100, KL divergence 3.9172, 50 iterations in 0.6793 sec\n",
      "Iteration  150, KL divergence 3.9172, 50 iterations in 0.7701 sec\n",
      "Iteration  200, KL divergence 3.9172, 50 iterations in 0.7209 sec\n",
      "Iteration  250, KL divergence 3.9172, 50 iterations in 0.6077 sec\n",
      "   --> Time elapsed: 3.45 seconds\n"
     ]
    }
   ],
   "source": [
    "visualization_model = TSNE(initialization=\"pca\", n_components=2, perplexity=30, metric=\"cosine\", n_iter=300,\n",
    "                           verbose=True)\n",
    "# valid_words_mask_base should be all `True`\n",
    "\n",
    "embedding_train = visualization_model.fit(base_embed.m[valid_words_mask_base])\n",
    "\n",
    "# Convert embedding_train and words list into a DataFrame\n",
    "background_df = pd.DataFrame(embedding_train, columns=['x', 'y'])\n",
    "background_df['word'] = np.array(base_embed.iw)[valid_words_mask_base]\n",
    "\n",
    "\n",
    "\n",
    "trajectories = []\n",
    "for word in highlighted_words_embed_dict:\n",
    "    years = list(highlighted_words_embed_dict[word].keys())\n",
    "\n",
    "    embeds, valid_embed_years = [], []\n",
    "    for year in years:\n",
    "        # Skip the years in which the keyword does not appear\n",
    "        if highlighted_words_embed_dict[word][year] is None:\n",
    "            continue\n",
    "        embeds.append(highlighted_words_embed_dict[word][year])\n",
    "        valid_embed_years.append(year)\n",
    "\n",
    "    if len(embeds) == 0:\n",
    "        continue\n",
    "\n",
    "    # Transform embeddings into 2D coordinates\n",
    "    embeds = np.array(embeds)\n",
    "    embeds = embedding_train.transform(embeds)\n",
    "\n",
    "    prev_coords = None\n",
    "    for idx_year, year in enumerate(valid_embed_years):\n",
    "        trajectories.append({\n",
    "            \"word\": word,\n",
    "            \"year\": year,\n",
    "            \"x\": embeds[idx_year, 0],\n",
    "            \"y\": embeds[idx_year, 1]\n",
    "        })\n",
    "\n",
    "trajectories_df = pd.DataFrame(trajectories)"
   ]
  },
  {
   "cell_type": "code",
   "execution_count": 14,
   "id": "e02e05e4-729c-452a-a8a7-69e6e5085210",
   "metadata": {},
   "outputs": [
    {
     "data": {
      "text/html": [
       "<div>\n",
       "<style scoped>\n",
       "    .dataframe tbody tr th:only-of-type {\n",
       "        vertical-align: middle;\n",
       "    }\n",
       "\n",
       "    .dataframe tbody tr th {\n",
       "        vertical-align: top;\n",
       "    }\n",
       "\n",
       "    .dataframe thead th {\n",
       "        text-align: right;\n",
       "    }\n",
       "</style>\n",
       "<table border=\"1\" class=\"dataframe\">\n",
       "  <thead>\n",
       "    <tr style=\"text-align: right;\">\n",
       "      <th></th>\n",
       "      <th>word</th>\n",
       "      <th>year</th>\n",
       "      <th>x</th>\n",
       "      <th>y</th>\n",
       "    </tr>\n",
       "  </thead>\n",
       "  <tbody>\n",
       "    <tr>\n",
       "      <th>0</th>\n",
       "      <td>artificial intelligence</td>\n",
       "      <td>1985</td>\n",
       "      <td>19.533570</td>\n",
       "      <td>-43.223929</td>\n",
       "    </tr>\n",
       "    <tr>\n",
       "      <th>1</th>\n",
       "      <td>artificial intelligence</td>\n",
       "      <td>1998</td>\n",
       "      <td>22.832544</td>\n",
       "      <td>12.019982</td>\n",
       "    </tr>\n",
       "    <tr>\n",
       "      <th>2</th>\n",
       "      <td>artificial intelligence</td>\n",
       "      <td>1999</td>\n",
       "      <td>22.816544</td>\n",
       "      <td>12.714821</td>\n",
       "    </tr>\n",
       "    <tr>\n",
       "      <th>3</th>\n",
       "      <td>artificial intelligence</td>\n",
       "      <td>2000</td>\n",
       "      <td>22.866574</td>\n",
       "      <td>12.279292</td>\n",
       "    </tr>\n",
       "    <tr>\n",
       "      <th>4</th>\n",
       "      <td>artificial intelligence</td>\n",
       "      <td>2003</td>\n",
       "      <td>17.319771</td>\n",
       "      <td>-41.271219</td>\n",
       "    </tr>\n",
       "    <tr>\n",
       "      <th>...</th>\n",
       "      <td>...</td>\n",
       "      <td>...</td>\n",
       "      <td>...</td>\n",
       "      <td>...</td>\n",
       "    </tr>\n",
       "    <tr>\n",
       "      <th>350</th>\n",
       "      <td>decision making</td>\n",
       "      <td>2021</td>\n",
       "      <td>-26.791001</td>\n",
       "      <td>-20.039310</td>\n",
       "    </tr>\n",
       "    <tr>\n",
       "      <th>351</th>\n",
       "      <td>decision making</td>\n",
       "      <td>2022</td>\n",
       "      <td>-20.098961</td>\n",
       "      <td>-23.913407</td>\n",
       "    </tr>\n",
       "    <tr>\n",
       "      <th>352</th>\n",
       "      <td>decision making</td>\n",
       "      <td>2023</td>\n",
       "      <td>-26.896046</td>\n",
       "      <td>-20.789320</td>\n",
       "    </tr>\n",
       "    <tr>\n",
       "      <th>353</th>\n",
       "      <td>decision making</td>\n",
       "      <td>2024</td>\n",
       "      <td>-26.850166</td>\n",
       "      <td>-20.660094</td>\n",
       "    </tr>\n",
       "    <tr>\n",
       "      <th>354</th>\n",
       "      <td>decision</td>\n",
       "      <td>2023</td>\n",
       "      <td>-35.516689</td>\n",
       "      <td>-4.962826</td>\n",
       "    </tr>\n",
       "  </tbody>\n",
       "</table>\n",
       "<p>355 rows × 4 columns</p>\n",
       "</div>"
      ],
      "text/plain": [
       "                        word  year          x          y\n",
       "0    artificial intelligence  1985  19.533570 -43.223929\n",
       "1    artificial intelligence  1998  22.832544  12.019982\n",
       "2    artificial intelligence  1999  22.816544  12.714821\n",
       "3    artificial intelligence  2000  22.866574  12.279292\n",
       "4    artificial intelligence  2003  17.319771 -41.271219\n",
       "..                       ...   ...        ...        ...\n",
       "350          decision making  2021 -26.791001 -20.039310\n",
       "351          decision making  2022 -20.098961 -23.913407\n",
       "352          decision making  2023 -26.896046 -20.789320\n",
       "353          decision making  2024 -26.850166 -20.660094\n",
       "354                 decision  2023 -35.516689  -4.962826\n",
       "\n",
       "[355 rows x 4 columns]"
      ]
     },
     "execution_count": 14,
     "metadata": {},
     "output_type": "execute_result"
    }
   ],
   "source": [
    "trajectories_df"
   ]
  },
  {
   "cell_type": "code",
   "execution_count": 15,
   "id": "bdcf5650-0354-4e56-8373-e28db46dc425",
   "metadata": {},
   "outputs": [],
   "source": [
    "path = 'outputs/keyword_trajectories/trajectories_covid.xlsx'\n",
    "\n",
    "\n",
    "nearest_neighbors = {'age-specific',\n",
    " 'bots',\n",
    " 'brazil',\n",
    " 'compartmental models',\n",
    " 'covid-19 pandemic',\n",
    " 'epidemic model',\n",
    " 'europe',\n",
    " 'follow-up analysis',\n",
    " 'hospitalization',\n",
    " 'impact assessment',\n",
    " 'india',\n",
    " 'infection',\n",
    " 'infections',\n",
    " 'italy',\n",
    " 'lockdown measures',\n",
    " 'lockdowns',\n",
    " 'monkeypox',\n",
    " 'mutations',\n",
    " 'quarantine',\n",
    " 'sars-cov-2',\n",
    " 'temporal trends',\n",
    " 'transmission dynamics',\n",
    " 'treatment',\n",
    " 'tuberculosis',\n",
    " 'vaccination',\n",
    " 'vaccine hesitancy',\n",
    " 'viral dynamics',\n",
    " 'wastewater'}\n",
    "\n",
    "# Only display nearest neighbors in the background\n",
    "background_mask_covid = background_df.word.isin(nearest_neighbors)\n",
    "background_df_covid = background_df[background_mask_covid].reset_index(drop=True).sort_values(['x'])\n",
    "\n",
    "if not os.path.exists(path):\n",
    "    with pd.ExcelWriter(path) as writer:\n",
    "        background_df_covid.to_excel(writer, sheet_name=\"background\", index=False)\n",
    "        trajectories_df.to_excel(writer, sheet_name=\"trajectories\", index=False)"
   ]
  },
  {
   "cell_type": "code",
   "execution_count": 70,
   "id": "8c4ca06d-33f1-4bdd-bad9-ec7aa974bc45",
   "metadata": {},
   "outputs": [
    {
     "data": {
      "image/png": "[encoded data removed]",
      "text/plain": [
       "<Figure size 1000x800 with 1 Axes>"
      ]
     },
     "metadata": {},
     "output_type": "display_data"
    }
   ],
   "source": [
    "from adjustText import adjust_text\n",
    "\n",
    "background_df_covid = pd.read_excel(path, sheet_name=\"background\")\n",
    "trajectories_df_covid = pd.read_excel(path, sheet_name=\"trajectories\")\n",
    "\n",
    "# Plotting\n",
    "plt.figure(figsize=(10, 8))\n",
    "plt.scatter(background_df_covid['x'], background_df_covid['y'], alpha=0.0)\n",
    "\n",
    "\n",
    "adjustable_texts = []\n",
    "for index, row in background_df_covid.iterrows():\n",
    "    \n",
    "    adjustable_texts.append(plt.text(row['x'], row['y'], row['word'], fontsize=18, ha='center', va='center', alpha=0.5))\n",
    "\n",
    "\n",
    "# Turn off the x and y labels, axis, and ticks\n",
    "plt.xlabel('')\n",
    "plt.ylabel('')\n",
    "plt.xticks([])  # Remove x-axis ticks\n",
    "plt.yticks([])  # Remove y-axis ticks\n",
    "for direction in ['top', 'right', 'bottom', 'left']:\n",
    "    plt.gca().spines[direction].set_visible(False)  # Hide top spine\n",
    "\n",
    "\n",
    "# Initialize previous coordinates\n",
    "prev_x, prev_y = None, None\n",
    "FONTSIZE=24\n",
    "ARROWHEADWIDTH = 16\n",
    "\n",
    "# Plot arrows for the trajectories\n",
    "for word in {\"COVID-19\"}:\n",
    "    traj = trajectories_df_covid[trajectories_df_covid['word'] == word]\n",
    "    traj = traj.sort_values(['year']).reset_index(drop=True)\n",
    "\n",
    "    for index, row in traj.iterrows():\n",
    "        \n",
    "        \n",
    "        adjustable_texts.append(plt.text(row['x'], row['y'], f\"{row['word']} ({row['year']})\", fontsize=FONTSIZE, ha='center', va='center', alpha=1.0))\n",
    "\n",
    "        \"\"\"\n",
    "        if prev_x is not None and prev_y is not None:\n",
    "            # Plot an arrow from (prev_x, prev_y) to (row['x'], row['y'])\n",
    "            plt.annotate('', xy=(row['x'], row['y']), xytext=(prev_x, prev_y),\n",
    "                         arrowprops=dict(facecolor='#219ebc', shrink=0.07, alpha=0.3, width=8, headwidth=12, edgecolor='none'))\n",
    "        \"\"\"\n",
    "\n",
    "        # Update prev_x and prev_y to the current point's coordinates\n",
    "        prev_x = row['x']\n",
    "        prev_y = row['y']\n",
    "\n",
    "prev_x, prev_y = None, None\n",
    "for word in {\"SARS-CoV-2\"}:\n",
    "    traj = trajectories_df_covid[trajectories_df_covid['word'] == word]\n",
    "    traj = traj.sort_values(['year']).reset_index(drop=True)\n",
    "\n",
    "    for index, row in traj.iterrows():\n",
    "        \n",
    "        if prev_x is not None and prev_y is not None:\n",
    "            # Plot an arrow from (prev_x, prev_y) to (row['x'], row['y'])\n",
    "            plt.annotate('', xy=(row['x'], row['y']), xytext=(prev_x, prev_y),\n",
    "                         arrowprops=dict(facecolor='#fb8500', shrink=0.02, alpha=0.3, width=8, headwidth=ARROWHEADWIDTH, edgecolor='none'))\n",
    "        \n",
    "        \n",
    "        # Update prev_x and prev_y to the current point's coordinates\n",
    "        prev_x = row['x']\n",
    "        prev_y = row['y']\n",
    "    \n",
    "    adjustable_texts.append(plt.text(-18.4751495, 18.36082324, f\"{row['word']} (2020-23)\", fontsize=FONTSIZE, ha='center', va='center'))\n",
    "\n",
    "\n",
    "# Add legend\n",
    "plt.legend(handles=[\n",
    "    mpatches.FancyArrowPatch((0, 0), (0.5, 0), color='#219ebc', label='COVID-19', alpha=0.6), \n",
    "    mpatches.FancyArrowPatch((0, 0), (0.5, 0), color='#fb8500', label='SARS-CoV-2', alpha=0.6)\n",
    "], loc='upper right', fontsize=FONTSIZE, frameon=True)\n",
    "\n",
    "\n",
    "# Adjust text to avoid overlap\n",
    "adjusted_texts = adjust_text(adjustable_texts,  \n",
    "            autoalign='xy', only_move={'points':'xy', 'text':'xy'}, force_text=(0.1, 0.1))\n",
    "\n",
    "prev_x, prev_y = None, None\n",
    "for new_text in adjusted_texts[0]:\n",
    "    if new_text._text.startswith(\"COVID-19\"):\n",
    "        if prev_x is not None and prev_y is not None:\n",
    "            plt.annotate('', xy=(new_text._x, new_text._y), xytext=(prev_x, prev_y),\n",
    "                             arrowprops=dict(facecolor='#219ebc', shrink=0.05, alpha=0.3, width=8, headwidth=ARROWHEADWIDTH, edgecolor='none'))\n",
    "        prev_x, prev_y = new_text._x, new_text._y\n",
    "\n",
    "\n",
    "plt.savefig(\"outputs/keyword_trajectories/trajectories_covid.pdf\", dpi=300)\n",
    "\n",
    "\n"
   ]
  },
  {
   "cell_type": "code",
   "execution_count": 45,
   "id": "8ecdd37a-ce07-47c0-9e70-0075d80685d6",
   "metadata": {},
   "outputs": [
    {
     "data": {
      "text/plain": [
       "{'_stale': False,\n",
       " 'stale_callback': <function matplotlib.artist._stale_axes_callback(self, val)>,\n",
       " '_axes': <Axes: >,\n",
       " 'figure': <Figure size 1000x800 with 1 Axes>,\n",
       " '_transform': <matplotlib.transforms.CompositeGenericTransform at 0x3b8641910>,\n",
       " '_transformSet': True,\n",
       " '_visible': True,\n",
       " '_animated': False,\n",
       " '_alpha': 1.0,\n",
       " 'clipbox': <matplotlib.transforms.TransformedBbox at 0x3b8893e90>,\n",
       " '_clippath': None,\n",
       " '_clipon': False,\n",
       " '_label': '',\n",
       " '_picker': None,\n",
       " '_rasterized': False,\n",
       " '_agg_filter': None,\n",
       " '_mouseover': False,\n",
       " '_callbacks': <matplotlib.cbook.CallbackRegistry at 0x3b888f990>,\n",
       " '_remove_method': <function list.remove(value, /)>,\n",
       " '_url': None,\n",
       " '_gid': None,\n",
       " '_snap': None,\n",
       " '_sketch': None,\n",
       " '_path_effects': [],\n",
       " '_sticky_edges': _XYPair(x=[], y=[]),\n",
       " '_in_layout': True,\n",
       " '_x': -18.0651781515388,\n",
       " '_y': 17.36908039307429,\n",
       " '_text': 'COVID-19 (2023)',\n",
       " '_color': 'black',\n",
       " '_fontproperties': <matplotlib.font_manager.FontProperties at 0x3b8893190>,\n",
       " '_usetex': False,\n",
       " '_parse_math': True,\n",
       " '_wrap': False,\n",
       " '_verticalalignment': 'center',\n",
       " '_horizontalalignment': 'center',\n",
       " '_multialignment': None,\n",
       " '_rotation': 0.0,\n",
       " '_transform_rotates_text': False,\n",
       " '_bbox_patch': None,\n",
       " '_renderer': <matplotlib.backends.backend_agg.RendererAgg at 0x3b879ee50>,\n",
       " '_linespacing': 1.2,\n",
       " '_rotation_mode': 'default',\n",
       " '_antialiased': True}"
      ]
     },
     "execution_count": 45,
     "metadata": {},
     "output_type": "execute_result"
    }
   ],
   "source": [
    "result[0][-2].__dict__"
   ]
  },
  {
   "cell_type": "markdown",
   "id": "6c9f31fd-e30d-45fa-a30d-a7f60b39443f",
   "metadata": {},
   "source": [
    "## Plot using plotly"
   ]
  },
  {
   "cell_type": "code",
   "execution_count": 40,
   "id": "ee8ef81c-5c8f-4b3f-b0e6-85705093193f",
   "metadata": {},
   "outputs": [
    {
     "data": {
      "application/vnd.plotly.v1+json": {
       "config": {
        "plotlyServerURL": "https://plot.ly"
       },
       "data": [
        {
         "hoverinfo": "text",
         "marker": {
          "color": "blue",
          "size": 10
         },
         "mode": "markers",
         "name": "Scatter",
         "text": [
          "age-specific",
          "bots",
          "brazil",
          "compartmental models",
          "covid-19 pandemic",
          "epidemic model",
          "europe",
          "follow-up analysis",
          "hospitalization",
          "impact assessment",
          "india",
          "infection",
          "infections",
          "italy",
          "lockdown measures",
          "lockdowns",
          "monkeypox",
          "mutations",
          "quarantine",
          "sars-cov-2",
          "temporal trends",
          "transmission dynamics",
          "treatment",
          "tuberculosis",
          "vaccination",
          "vaccine hesitancy",
          "viral dynamics",
          "wastewater"
         ],
         "type": "scatter",
         "x": [
          -23.400692024627702,
          -53.05777624005054,
          -52.12796227330286,
          -17.932214892273368,
          -23.40516282031716,
          -3.9783978119187715,
          -52.61319667860342,
          -24.40629299353123,
          -23.862860499637787,
          -54.553566056138344,
          -57.01297788525129,
          -58.6452957646295,
          -30.59369864381614,
          -23.477941385617505,
          -23.682356303018974,
          -23.56362051984466,
          -50.12697956694536,
          1.0780323961264435,
          -24.273327007078922,
          -24.36237104667613,
          -22.332631246400414,
          -23.670395872820876,
          -4.042080376523964,
          -7.750600223735009,
          -18.008735696959587,
          -24.091546084599585,
          -18.01952585804298,
          -24.45906758301267
         ],
         "y": [
          10.690228669167047,
          1.1237837253211354,
          -1.2425896683043471,
          -31.231950179276545,
          9.829880781235776,
          -13.910345536080033,
          -1.9584067522725084,
          8.438214843916812,
          10.391617621818213,
          -24.007093721970413,
          -18.302534984979417,
          -19.100954911582953,
          20.741143657014998,
          10.137860472076854,
          10.512512081137437,
          10.367264572236891,
          -4.735587459839517,
          -40.67827478876153,
          10.148628777710964,
          8.528861141121112,
          11.623308360885483,
          10.092260384113057,
          -13.843503391187038,
          24.059159533162255,
          -30.96272427039453,
          11.926022816755571,
          5.240167581099739,
          8.397165698386146
         ]
        },
        {
         "hoverinfo": "text",
         "line": {
          "color": "green"
         },
         "mode": "lines",
         "name": "covid-19",
         "text": [
          "covid-19 (2020)",
          "covid-19 (2021)",
          "covid-19 (2022)",
          "covid-19 (2023)"
         ],
         "type": "scatter",
         "x": [
          -29.078083039208703,
          -23.88639128330879,
          -23.67587970933012,
          -23.827866584684052
         ],
         "y": [
          7.296905119319729,
          10.105332304870617,
          10.20875652006475,
          10.392081598875427
         ]
        },
        {
         "hoverinfo": "text",
         "line": {
          "color": "green"
         },
         "mode": "lines",
         "name": "sars-cov-2",
         "text": [
          "sars-cov-2 (2020)",
          "sars-cov-2 (2021)",
          "sars-cov-2 (2022)",
          "sars-cov-2 (2023)"
         ],
         "type": "scatter",
         "x": [
          -23.89729718054949,
          -23.89824514636661,
          -23.735497938505215,
          -24.315716801294897
         ],
         "y": [
          10.428589665390728,
          9.772177836378194,
          10.352611930634332,
          8.587846376697712
         ]
        }
       ],
       "layout": {
        "autosize": true,
        "dragmode": "pan",
        "template": {
         "data": {
          "bar": [
           {
            "error_x": {
             "color": "#2a3f5f"
            },
            "error_y": {
             "color": "#2a3f5f"
            },
            "marker": {
             "line": {
              "color": "#E5ECF6",
              "width": 0.5
             },
             "pattern": {
              "fillmode": "overlay",
              "size": 10,
              "solidity": 0.2
             }
            },
            "type": "bar"
           }
          ],
          "barpolar": [
           {
            "marker": {
             "line": {
              "color": "#E5ECF6",
              "width": 0.5
             },
             "pattern": {
              "fillmode": "overlay",
              "size": 10,
              "solidity": 0.2
             }
            },
            "type": "barpolar"
           }
          ],
          "carpet": [
           {
            "aaxis": {
             "endlinecolor": "#2a3f5f",
             "gridcolor": "white",
             "linecolor": "white",
             "minorgridcolor": "white",
             "startlinecolor": "#2a3f5f"
            },
            "baxis": {
             "endlinecolor": "#2a3f5f",
             "gridcolor": "white",
             "linecolor": "white",
             "minorgridcolor": "white",
             "startlinecolor": "#2a3f5f"
            },
            "type": "carpet"
           }
          ],
          "choropleth": [
           {
            "colorbar": {
             "outlinewidth": 0,
             "ticks": ""
            },
            "type": "choropleth"
           }
          ],
          "contour": [
           {
            "colorbar": {
             "outlinewidth": 0,
             "ticks": ""
            },
            "colorscale": [
             [
              0,
              "#0d0887"
             ],
             [
              0.1111111111111111,
              "#46039f"
             ],
             [
              0.2222222222222222,
              "#7201a8"
             ],
             [
              0.3333333333333333,
              "#9c179e"
             ],
             [
              0.4444444444444444,
              "#bd3786"
             ],
             [
              0.5555555555555556,
              "#d8576b"
             ],
             [
              0.6666666666666666,
              "#ed7953"
             ],
             [
              0.7777777777777778,
              "#fb9f3a"
             ],
             [
              0.8888888888888888,
              "#fdca26"
             ],
             [
              1,
              "#f0f921"
             ]
            ],
            "type": "contour"
           }
          ],
          "contourcarpet": [
           {
            "colorbar": {
             "outlinewidth": 0,
             "ticks": ""
            },
            "type": "contourcarpet"
           }
          ],
          "heatmap": [
           {
            "colorbar": {
             "outlinewidth": 0,
             "ticks": ""
            },
            "colorscale": [
             [
              0,
              "#0d0887"
             ],
             [
              0.1111111111111111,
              "#46039f"
             ],
             [
              0.2222222222222222,
              "#7201a8"
             ],
             [
              0.3333333333333333,
              "#9c179e"
             ],
             [
              0.4444444444444444,
              "#bd3786"
             ],
             [
              0.5555555555555556,
              "#d8576b"
             ],
             [
              0.6666666666666666,
              "#ed7953"
             ],
             [
              0.7777777777777778,
              "#fb9f3a"
             ],
             [
              0.8888888888888888,
              "#fdca26"
             ],
             [
              1,
              "#f0f921"
             ]
            ],
            "type": "heatmap"
           }
          ],
          "heatmapgl": [
           {
            "colorbar": {
             "outlinewidth": 0,
             "ticks": ""
            },
            "colorscale": [
             [
              0,
              "#0d0887"
             ],
             [
              0.1111111111111111,
              "#46039f"
             ],
             [
              0.2222222222222222,
              "#7201a8"
             ],
             [
              0.3333333333333333,
              "#9c179e"
             ],
             [
              0.4444444444444444,
              "#bd3786"
             ],
             [
              0.5555555555555556,
              "#d8576b"
             ],
             [
              0.6666666666666666,
              "#ed7953"
             ],
             [
              0.7777777777777778,
              "#fb9f3a"
             ],
             [
              0.8888888888888888,
              "#fdca26"
             ],
             [
              1,
              "#f0f921"
             ]
            ],
            "type": "heatmapgl"
           }
          ],
          "histogram": [
           {
            "marker": {
             "pattern": {
              "fillmode": "overlay",
              "size": 10,
              "solidity": 0.2
             }
            },
            "type": "histogram"
           }
          ],
          "histogram2d": [
           {
            "colorbar": {
             "outlinewidth": 0,
             "ticks": ""
            },
            "colorscale": [
             [
              0,
              "#0d0887"
             ],
             [
              0.1111111111111111,
              "#46039f"
             ],
             [
              0.2222222222222222,
              "#7201a8"
             ],
             [
              0.3333333333333333,
              "#9c179e"
             ],
             [
              0.4444444444444444,
              "#bd3786"
             ],
             [
              0.5555555555555556,
              "#d8576b"
             ],
             [
              0.6666666666666666,
              "#ed7953"
             ],
             [
              0.7777777777777778,
              "#fb9f3a"
             ],
             [
              0.8888888888888888,
              "#fdca26"
             ],
             [
              1,
              "#f0f921"
             ]
            ],
            "type": "histogram2d"
           }
          ],
          "histogram2dcontour": [
           {
            "colorbar": {
             "outlinewidth": 0,
             "ticks": ""
            },
            "colorscale": [
             [
              0,
              "#0d0887"
             ],
             [
              0.1111111111111111,
              "#46039f"
             ],
             [
              0.2222222222222222,
              "#7201a8"
             ],
             [
              0.3333333333333333,
              "#9c179e"
             ],
             [
              0.4444444444444444,
              "#bd3786"
             ],
             [
              0.5555555555555556,
              "#d8576b"
             ],
             [
              0.6666666666666666,
              "#ed7953"
             ],
             [
              0.7777777777777778,
              "#fb9f3a"
             ],
             [
              0.8888888888888888,
              "#fdca26"
             ],
             [
              1,
              "#f0f921"
             ]
            ],
            "type": "histogram2dcontour"
           }
          ],
          "mesh3d": [
           {
            "colorbar": {
             "outlinewidth": 0,
             "ticks": ""
            },
            "type": "mesh3d"
           }
          ],
          "parcoords": [
           {
            "line": {
             "colorbar": {
              "outlinewidth": 0,
              "ticks": ""
             }
            },
            "type": "parcoords"
           }
          ],
          "pie": [
           {
            "automargin": true,
            "type": "pie"
           }
          ],
          "scatter": [
           {
            "fillpattern": {
             "fillmode": "overlay",
             "size": 10,
             "solidity": 0.2
            },
            "type": "scatter"
           }
          ],
          "scatter3d": [
           {
            "line": {
             "colorbar": {
              "outlinewidth": 0,
              "ticks": ""
             }
            },
            "marker": {
             "colorbar": {
              "outlinewidth": 0,
              "ticks": ""
             }
            },
            "type": "scatter3d"
           }
          ],
          "scattercarpet": [
           {
            "marker": {
             "colorbar": {
              "outlinewidth": 0,
              "ticks": ""
             }
            },
            "type": "scattercarpet"
           }
          ],
          "scattergeo": [
           {
            "marker": {
             "colorbar": {
              "outlinewidth": 0,
              "ticks": ""
             }
            },
            "type": "scattergeo"
           }
          ],
          "scattergl": [
           {
            "marker": {
             "colorbar": {
              "outlinewidth": 0,
              "ticks": ""
             }
            },
            "type": "scattergl"
           }
          ],
          "scattermapbox": [
           {
            "marker": {
             "colorbar": {
              "outlinewidth": 0,
              "ticks": ""
             }
            },
            "type": "scattermapbox"
           }
          ],
          "scatterpolar": [
           {
            "marker": {
             "colorbar": {
              "outlinewidth": 0,
              "ticks": ""
             }
            },
            "type": "scatterpolar"
           }
          ],
          "scatterpolargl": [
           {
            "marker": {
             "colorbar": {
              "outlinewidth": 0,
              "ticks": ""
             }
            },
            "type": "scatterpolargl"
           }
          ],
          "scatterternary": [
           {
            "marker": {
             "colorbar": {
              "outlinewidth": 0,
              "ticks": ""
             }
            },
            "type": "scatterternary"
           }
          ],
          "surface": [
           {
            "colorbar": {
             "outlinewidth": 0,
             "ticks": ""
            },
            "colorscale": [
             [
              0,
              "#0d0887"
             ],
             [
              0.1111111111111111,
              "#46039f"
             ],
             [
              0.2222222222222222,
              "#7201a8"
             ],
             [
              0.3333333333333333,
              "#9c179e"
             ],
             [
              0.4444444444444444,
              "#bd3786"
             ],
             [
              0.5555555555555556,
              "#d8576b"
             ],
             [
              0.6666666666666666,
              "#ed7953"
             ],
             [
              0.7777777777777778,
              "#fb9f3a"
             ],
             [
              0.8888888888888888,
              "#fdca26"
             ],
             [
              1,
              "#f0f921"
             ]
            ],
            "type": "surface"
           }
          ],
          "table": [
           {
            "cells": {
             "fill": {
              "color": "#EBF0F8"
             },
             "line": {
              "color": "white"
             }
            },
            "header": {
             "fill": {
              "color": "#C8D4E3"
             },
             "line": {
              "color": "white"
             }
            },
            "type": "table"
           }
          ]
         },
         "layout": {
          "annotationdefaults": {
           "arrowcolor": "#2a3f5f",
           "arrowhead": 0,
           "arrowwidth": 1
          },
          "autotypenumbers": "strict",
          "coloraxis": {
           "colorbar": {
            "outlinewidth": 0,
            "ticks": ""
           }
          },
          "colorscale": {
           "diverging": [
            [
             0,
             "#8e0152"
            ],
            [
             0.1,
             "#c51b7d"
            ],
            [
             0.2,
             "#de77ae"
            ],
            [
             0.3,
             "#f1b6da"
            ],
            [
             0.4,
             "#fde0ef"
            ],
            [
             0.5,
             "#f7f7f7"
            ],
            [
             0.6,
             "#e6f5d0"
            ],
            [
             0.7,
             "#b8e186"
            ],
            [
             0.8,
             "#7fbc41"
            ],
            [
             0.9,
             "#4d9221"
            ],
            [
             1,
             "#276419"
            ]
           ],
           "sequential": [
            [
             0,
             "#0d0887"
            ],
            [
             0.1111111111111111,
             "#46039f"
            ],
            [
             0.2222222222222222,
             "#7201a8"
            ],
            [
             0.3333333333333333,
             "#9c179e"
            ],
            [
             0.4444444444444444,
             "#bd3786"
            ],
            [
             0.5555555555555556,
             "#d8576b"
            ],
            [
             0.6666666666666666,
             "#ed7953"
            ],
            [
             0.7777777777777778,
             "#fb9f3a"
            ],
            [
             0.8888888888888888,
             "#fdca26"
            ],
            [
             1,
             "#f0f921"
            ]
           ],
           "sequentialminus": [
            [
             0,
             "#0d0887"
            ],
            [
             0.1111111111111111,
             "#46039f"
            ],
            [
             0.2222222222222222,
             "#7201a8"
            ],
            [
             0.3333333333333333,
             "#9c179e"
            ],
            [
             0.4444444444444444,
             "#bd3786"
            ],
            [
             0.5555555555555556,
             "#d8576b"
            ],
            [
             0.6666666666666666,
             "#ed7953"
            ],
            [
             0.7777777777777778,
             "#fb9f3a"
            ],
            [
             0.8888888888888888,
             "#fdca26"
            ],
            [
             1,
             "#f0f921"
            ]
           ]
          },
          "colorway": [
           "#636efa",
           "#EF553B",
           "#00cc96",
           "#ab63fa",
           "#FFA15A",
           "#19d3f3",
           "#FF6692",
           "#B6E880",
           "#FF97FF",
           "#FECB52"
          ],
          "font": {
           "color": "#2a3f5f"
          },
          "geo": {
           "bgcolor": "white",
           "lakecolor": "white",
           "landcolor": "#E5ECF6",
           "showlakes": true,
           "showland": true,
           "subunitcolor": "white"
          },
          "hoverlabel": {
           "align": "left"
          },
          "hovermode": "closest",
          "mapbox": {
           "style": "light"
          },
          "paper_bgcolor": "white",
          "plot_bgcolor": "#E5ECF6",
          "polar": {
           "angularaxis": {
            "gridcolor": "white",
            "linecolor": "white",
            "ticks": ""
           },
           "bgcolor": "#E5ECF6",
           "radialaxis": {
            "gridcolor": "white",
            "linecolor": "white",
            "ticks": ""
           }
          },
          "scene": {
           "xaxis": {
            "backgroundcolor": "#E5ECF6",
            "gridcolor": "white",
            "gridwidth": 2,
            "linecolor": "white",
            "showbackground": true,
            "ticks": "",
            "zerolinecolor": "white"
           },
           "yaxis": {
            "backgroundcolor": "#E5ECF6",
            "gridcolor": "white",
            "gridwidth": 2,
            "linecolor": "white",
            "showbackground": true,
            "ticks": "",
            "zerolinecolor": "white"
           },
           "zaxis": {
            "backgroundcolor": "#E5ECF6",
            "gridcolor": "white",
            "gridwidth": 2,
            "linecolor": "white",
            "showbackground": true,
            "ticks": "",
            "zerolinecolor": "white"
           }
          },
          "shapedefaults": {
           "line": {
            "color": "#2a3f5f"
           }
          },
          "ternary": {
           "aaxis": {
            "gridcolor": "white",
            "linecolor": "white",
            "ticks": ""
           },
           "baxis": {
            "gridcolor": "white",
            "linecolor": "white",
            "ticks": ""
           },
           "bgcolor": "#E5ECF6",
           "caxis": {
            "gridcolor": "white",
            "linecolor": "white",
            "ticks": ""
           }
          },
          "title": {
           "x": 0.05
          },
          "xaxis": {
           "automargin": true,
           "gridcolor": "white",
           "linecolor": "white",
           "ticks": "",
           "title": {
            "standoff": 15
           },
           "zerolinecolor": "white",
           "zerolinewidth": 2
          },
          "yaxis": {
           "automargin": true,
           "gridcolor": "white",
           "linecolor": "white",
           "ticks": "",
           "title": {
            "standoff": 15
           },
           "zerolinecolor": "white",
           "zerolinewidth": 2
          }
         }
        },
        "title": {
         "text": "Scatter Plot with Line Plots"
        },
        "xaxis": {
         "autorange": false,
         "range": [
          -69.84,
          20.726621355367847
         ],
         "title": {
          "text": "X Axis"
         },
         "type": "linear"
        },
        "yaxis": {
         "autorange": false,
         "range": [
          -98.47781559545726,
          112.83902687343081
         ],
         "title": {
          "text": "Y Axis"
         },
         "type": "linear"
        }
       }
      },
      "image/png": "[encoded data removed]",
      "text/html": [
       "<div>                            <div id=\"706a1953-c58c-4a66-bf2d-83bfc3b6cc44\" class=\"plotly-graph-div\" style=\"height:525px; width:100%;\"></div>            <script type=\"text/javascript\">                require([\"plotly\"], function(Plotly) {                    window.PLOTLYENV=window.PLOTLYENV || {};                                    if (document.getElementById(\"706a1953-c58c-4a66-bf2d-83bfc3b6cc44\")) {                    Plotly.newPlot(                        \"706a1953-c58c-4a66-bf2d-83bfc3b6cc44\",                        [{\"hoverinfo\":\"text\",\"marker\":{\"color\":\"blue\",\"size\":10},\"mode\":\"markers\",\"name\":\"Scatter\",\"text\":[\"age-specific\",\"bots\",\"brazil\",\"compartmental models\",\"covid-19 pandemic\",\"epidemic model\",\"europe\",\"follow-up analysis\",\"hospitalization\",\"impact assessment\",\"india\",\"infection\",\"infections\",\"italy\",\"lockdown measures\",\"lockdowns\",\"monkeypox\",\"mutations\",\"quarantine\",\"sars-cov-2\",\"temporal trends\",\"transmission dynamics\",\"treatment\",\"tuberculosis\",\"vaccination\",\"vaccine hesitancy\",\"viral dynamics\",\"wastewater\"],\"x\":[-23.400692024627702,-53.05777624005054,-52.12796227330286,-17.932214892273368,-23.40516282031716,-3.9783978119187715,-52.61319667860342,-24.40629299353123,-23.862860499637787,-54.553566056138344,-57.01297788525129,-58.6452957646295,-30.59369864381614,-23.477941385617505,-23.682356303018974,-23.56362051984466,-50.12697956694536,1.0780323961264435,-24.273327007078922,-24.36237104667613,-22.332631246400414,-23.670395872820876,-4.042080376523964,-7.750600223735009,-18.008735696959587,-24.091546084599585,-18.01952585804298,-24.45906758301267],\"y\":[10.690228669167047,1.1237837253211354,-1.2425896683043471,-31.231950179276545,9.829880781235776,-13.910345536080033,-1.9584067522725084,8.438214843916812,10.391617621818213,-24.007093721970413,-18.302534984979417,-19.100954911582953,20.741143657014998,10.137860472076854,10.512512081137437,10.367264572236891,-4.735587459839517,-40.67827478876153,10.148628777710964,8.528861141121112,11.623308360885483,10.092260384113057,-13.843503391187038,24.059159533162255,-30.96272427039453,11.926022816755571,5.240167581099739,8.397165698386146],\"type\":\"scatter\"},{\"hoverinfo\":\"text\",\"line\":{\"color\":\"green\"},\"mode\":\"lines\",\"name\":\"covid-19\",\"text\":[\"covid-19 (2020)\",\"covid-19 (2021)\",\"covid-19 (2022)\",\"covid-19 (2023)\"],\"x\":[-29.078083039208703,-23.88639128330879,-23.67587970933012,-23.827866584684052],\"y\":[7.296905119319729,10.105332304870617,10.20875652006475,10.392081598875427],\"type\":\"scatter\"},{\"hoverinfo\":\"text\",\"line\":{\"color\":\"green\"},\"mode\":\"lines\",\"name\":\"sars-cov-2\",\"text\":[\"sars-cov-2 (2020)\",\"sars-cov-2 (2021)\",\"sars-cov-2 (2022)\",\"sars-cov-2 (2023)\"],\"x\":[-23.89729718054949,-23.89824514636661,-23.735497938505215,-24.315716801294897],\"y\":[10.428589665390728,9.772177836378194,10.352611930634332,8.587846376697712],\"type\":\"scatter\"}],                        {\"template\":{\"data\":{\"histogram2dcontour\":[{\"type\":\"histogram2dcontour\",\"colorbar\":{\"outlinewidth\":0,\"ticks\":\"\"},\"colorscale\":[[0.0,\"#0d0887\"],[0.1111111111111111,\"#46039f\"],[0.2222222222222222,\"#7201a8\"],[0.3333333333333333,\"#9c179e\"],[0.4444444444444444,\"#bd3786\"],[0.5555555555555556,\"#d8576b\"],[0.6666666666666666,\"#ed7953\"],[0.7777777777777778,\"#fb9f3a\"],[0.8888888888888888,\"#fdca26\"],[1.0,\"#f0f921\"]]}],\"choropleth\":[{\"type\":\"choropleth\",\"colorbar\":{\"outlinewidth\":0,\"ticks\":\"\"}}],\"histogram2d\":[{\"type\":\"histogram2d\",\"colorbar\":{\"outlinewidth\":0,\"ticks\":\"\"},\"colorscale\":[[0.0,\"#0d0887\"],[0.1111111111111111,\"#46039f\"],[0.2222222222222222,\"#7201a8\"],[0.3333333333333333,\"#9c179e\"],[0.4444444444444444,\"#bd3786\"],[0.5555555555555556,\"#d8576b\"],[0.6666666666666666,\"#ed7953\"],[0.7777777777777778,\"#fb9f3a\"],[0.8888888888888888,\"#fdca26\"],[1.0,\"#f0f921\"]]}],\"heatmap\":[{\"type\":\"heatmap\",\"colorbar\":{\"outlinewidth\":0,\"ticks\":\"\"},\"colorscale\":[[0.0,\"#0d0887\"],[0.1111111111111111,\"#46039f\"],[0.2222222222222222,\"#7201a8\"],[0.3333333333333333,\"#9c179e\"],[0.4444444444444444,\"#bd3786\"],[0.5555555555555556,\"#d8576b\"],[0.6666666666666666,\"#ed7953\"],[0.7777777777777778,\"#fb9f3a\"],[0.8888888888888888,\"#fdca26\"],[1.0,\"#f0f921\"]]}],\"heatmapgl\":[{\"type\":\"heatmapgl\",\"colorbar\":{\"outlinewidth\":0,\"ticks\":\"\"},\"colorscale\":[[0.0,\"#0d0887\"],[0.1111111111111111,\"#46039f\"],[0.2222222222222222,\"#7201a8\"],[0.3333333333333333,\"#9c179e\"],[0.4444444444444444,\"#bd3786\"],[0.5555555555555556,\"#d8576b\"],[0.6666666666666666,\"#ed7953\"],[0.7777777777777778,\"#fb9f3a\"],[0.8888888888888888,\"#fdca26\"],[1.0,\"#f0f921\"]]}],\"contourcarpet\":[{\"type\":\"contourcarpet\",\"colorbar\":{\"outlinewidth\":0,\"ticks\":\"\"}}],\"contour\":[{\"type\":\"contour\",\"colorbar\":{\"outlinewidth\":0,\"ticks\":\"\"},\"colorscale\":[[0.0,\"#0d0887\"],[0.1111111111111111,\"#46039f\"],[0.2222222222222222,\"#7201a8\"],[0.3333333333333333,\"#9c179e\"],[0.4444444444444444,\"#bd3786\"],[0.5555555555555556,\"#d8576b\"],[0.6666666666666666,\"#ed7953\"],[0.7777777777777778,\"#fb9f3a\"],[0.8888888888888888,\"#fdca26\"],[1.0,\"#f0f921\"]]}],\"surface\":[{\"type\":\"surface\",\"colorbar\":{\"outlinewidth\":0,\"ticks\":\"\"},\"colorscale\":[[0.0,\"#0d0887\"],[0.1111111111111111,\"#46039f\"],[0.2222222222222222,\"#7201a8\"],[0.3333333333333333,\"#9c179e\"],[0.4444444444444444,\"#bd3786\"],[0.5555555555555556,\"#d8576b\"],[0.6666666666666666,\"#ed7953\"],[0.7777777777777778,\"#fb9f3a\"],[0.8888888888888888,\"#fdca26\"],[1.0,\"#f0f921\"]]}],\"mesh3d\":[{\"type\":\"mesh3d\",\"colorbar\":{\"outlinewidth\":0,\"ticks\":\"\"}}],\"scatter\":[{\"fillpattern\":{\"fillmode\":\"overlay\",\"size\":10,\"solidity\":0.2},\"type\":\"scatter\"}],\"parcoords\":[{\"type\":\"parcoords\",\"line\":{\"colorbar\":{\"outlinewidth\":0,\"ticks\":\"\"}}}],\"scatterpolargl\":[{\"type\":\"scatterpolargl\",\"marker\":{\"colorbar\":{\"outlinewidth\":0,\"ticks\":\"\"}}}],\"bar\":[{\"error_x\":{\"color\":\"#2a3f5f\"},\"error_y\":{\"color\":\"#2a3f5f\"},\"marker\":{\"line\":{\"color\":\"#E5ECF6\",\"width\":0.5},\"pattern\":{\"fillmode\":\"overlay\",\"size\":10,\"solidity\":0.2}},\"type\":\"bar\"}],\"scattergeo\":[{\"type\":\"scattergeo\",\"marker\":{\"colorbar\":{\"outlinewidth\":0,\"ticks\":\"\"}}}],\"scatterpolar\":[{\"type\":\"scatterpolar\",\"marker\":{\"colorbar\":{\"outlinewidth\":0,\"ticks\":\"\"}}}],\"histogram\":[{\"marker\":{\"pattern\":{\"fillmode\":\"overlay\",\"size\":10,\"solidity\":0.2}},\"type\":\"histogram\"}],\"scattergl\":[{\"type\":\"scattergl\",\"marker\":{\"colorbar\":{\"outlinewidth\":0,\"ticks\":\"\"}}}],\"scatter3d\":[{\"type\":\"scatter3d\",\"line\":{\"colorbar\":{\"outlinewidth\":0,\"ticks\":\"\"}},\"marker\":{\"colorbar\":{\"outlinewidth\":0,\"ticks\":\"\"}}}],\"scattermapbox\":[{\"type\":\"scattermapbox\",\"marker\":{\"colorbar\":{\"outlinewidth\":0,\"ticks\":\"\"}}}],\"scatterternary\":[{\"type\":\"scatterternary\",\"marker\":{\"colorbar\":{\"outlinewidth\":0,\"ticks\":\"\"}}}],\"scattercarpet\":[{\"type\":\"scattercarpet\",\"marker\":{\"colorbar\":{\"outlinewidth\":0,\"ticks\":\"\"}}}],\"carpet\":[{\"aaxis\":{\"endlinecolor\":\"#2a3f5f\",\"gridcolor\":\"white\",\"linecolor\":\"white\",\"minorgridcolor\":\"white\",\"startlinecolor\":\"#2a3f5f\"},\"baxis\":{\"endlinecolor\":\"#2a3f5f\",\"gridcolor\":\"white\",\"linecolor\":\"white\",\"minorgridcolor\":\"white\",\"startlinecolor\":\"#2a3f5f\"},\"type\":\"carpet\"}],\"table\":[{\"cells\":{\"fill\":{\"color\":\"#EBF0F8\"},\"line\":{\"color\":\"white\"}},\"header\":{\"fill\":{\"color\":\"#C8D4E3\"},\"line\":{\"color\":\"white\"}},\"type\":\"table\"}],\"barpolar\":[{\"marker\":{\"line\":{\"color\":\"#E5ECF6\",\"width\":0.5},\"pattern\":{\"fillmode\":\"overlay\",\"size\":10,\"solidity\":0.2}},\"type\":\"barpolar\"}],\"pie\":[{\"automargin\":true,\"type\":\"pie\"}]},\"layout\":{\"autotypenumbers\":\"strict\",\"colorway\":[\"#636efa\",\"#EF553B\",\"#00cc96\",\"#ab63fa\",\"#FFA15A\",\"#19d3f3\",\"#FF6692\",\"#B6E880\",\"#FF97FF\",\"#FECB52\"],\"font\":{\"color\":\"#2a3f5f\"},\"hovermode\":\"closest\",\"hoverlabel\":{\"align\":\"left\"},\"paper_bgcolor\":\"white\",\"plot_bgcolor\":\"#E5ECF6\",\"polar\":{\"bgcolor\":\"#E5ECF6\",\"angularaxis\":{\"gridcolor\":\"white\",\"linecolor\":\"white\",\"ticks\":\"\"},\"radialaxis\":{\"gridcolor\":\"white\",\"linecolor\":\"white\",\"ticks\":\"\"}},\"ternary\":{\"bgcolor\":\"#E5ECF6\",\"aaxis\":{\"gridcolor\":\"white\",\"linecolor\":\"white\",\"ticks\":\"\"},\"baxis\":{\"gridcolor\":\"white\",\"linecolor\":\"white\",\"ticks\":\"\"},\"caxis\":{\"gridcolor\":\"white\",\"linecolor\":\"white\",\"ticks\":\"\"}},\"coloraxis\":{\"colorbar\":{\"outlinewidth\":0,\"ticks\":\"\"}},\"colorscale\":{\"sequential\":[[0.0,\"#0d0887\"],[0.1111111111111111,\"#46039f\"],[0.2222222222222222,\"#7201a8\"],[0.3333333333333333,\"#9c179e\"],[0.4444444444444444,\"#bd3786\"],[0.5555555555555556,\"#d8576b\"],[0.6666666666666666,\"#ed7953\"],[0.7777777777777778,\"#fb9f3a\"],[0.8888888888888888,\"#fdca26\"],[1.0,\"#f0f921\"]],\"sequentialminus\":[[0.0,\"#0d0887\"],[0.1111111111111111,\"#46039f\"],[0.2222222222222222,\"#7201a8\"],[0.3333333333333333,\"#9c179e\"],[0.4444444444444444,\"#bd3786\"],[0.5555555555555556,\"#d8576b\"],[0.6666666666666666,\"#ed7953\"],[0.7777777777777778,\"#fb9f3a\"],[0.8888888888888888,\"#fdca26\"],[1.0,\"#f0f921\"]],\"diverging\":[[0,\"#8e0152\"],[0.1,\"#c51b7d\"],[0.2,\"#de77ae\"],[0.3,\"#f1b6da\"],[0.4,\"#fde0ef\"],[0.5,\"#f7f7f7\"],[0.6,\"#e6f5d0\"],[0.7,\"#b8e186\"],[0.8,\"#7fbc41\"],[0.9,\"#4d9221\"],[1,\"#276419\"]]},\"xaxis\":{\"gridcolor\":\"white\",\"linecolor\":\"white\",\"ticks\":\"\",\"title\":{\"standoff\":15},\"zerolinecolor\":\"white\",\"automargin\":true,\"zerolinewidth\":2},\"yaxis\":{\"gridcolor\":\"white\",\"linecolor\":\"white\",\"ticks\":\"\",\"title\":{\"standoff\":15},\"zerolinecolor\":\"white\",\"automargin\":true,\"zerolinewidth\":2},\"scene\":{\"xaxis\":{\"backgroundcolor\":\"#E5ECF6\",\"gridcolor\":\"white\",\"linecolor\":\"white\",\"showbackground\":true,\"ticks\":\"\",\"zerolinecolor\":\"white\",\"gridwidth\":2},\"yaxis\":{\"backgroundcolor\":\"#E5ECF6\",\"gridcolor\":\"white\",\"linecolor\":\"white\",\"showbackground\":true,\"ticks\":\"\",\"zerolinecolor\":\"white\",\"gridwidth\":2},\"zaxis\":{\"backgroundcolor\":\"#E5ECF6\",\"gridcolor\":\"white\",\"linecolor\":\"white\",\"showbackground\":true,\"ticks\":\"\",\"zerolinecolor\":\"white\",\"gridwidth\":2}},\"shapedefaults\":{\"line\":{\"color\":\"#2a3f5f\"}},\"annotationdefaults\":{\"arrowcolor\":\"#2a3f5f\",\"arrowhead\":0,\"arrowwidth\":1},\"geo\":{\"bgcolor\":\"white\",\"landcolor\":\"#E5ECF6\",\"subunitcolor\":\"white\",\"showland\":true,\"showlakes\":true,\"lakecolor\":\"white\"},\"title\":{\"x\":0.05},\"mapbox\":{\"style\":\"light\"}}},\"title\":{\"text\":\"Scatter Plot with Line Plots\"},\"xaxis\":{\"title\":{\"text\":\"X Axis\"}},\"yaxis\":{\"title\":{\"text\":\"Y Axis\"}}},                        {\"responsive\": true}                    ).then(function(){\n",
       "                            \n",
       "var gd = document.getElementById('706a1953-c58c-4a66-bf2d-83bfc3b6cc44');\n",
       "var x = new MutationObserver(function (mutations, observer) {{\n",
       "        var display = window.getComputedStyle(gd).display;\n",
       "        if (!display || display === 'none') {{\n",
       "            console.log([gd, 'removed!']);\n",
       "            Plotly.purge(gd);\n",
       "            observer.disconnect();\n",
       "        }}\n",
       "}});\n",
       "\n",
       "// Listen for the removal of the full notebook cells\n",
       "var notebookContainer = gd.closest('#notebook-container');\n",
       "if (notebookContainer) {{\n",
       "    x.observe(notebookContainer, {childList: true});\n",
       "}}\n",
       "\n",
       "// Listen for the clearing of the current output cell\n",
       "var outputEl = gd.closest('.output');\n",
       "if (outputEl) {{\n",
       "    x.observe(outputEl, {childList: true});\n",
       "}}\n",
       "\n",
       "                        })                };                });            </script>        </div>"
      ]
     },
     "metadata": {},
     "output_type": "display_data"
    }
   ],
   "source": [
    "import plotly.graph_objs as go\n",
    "import plotly.express as px\n",
    "\n",
    "scatter = go.Scatter(\n",
    "    x=background_df_covid['x'].values,\n",
    "    y=background_df_covid['y'].values,\n",
    "    mode='markers',\n",
    "    marker=dict(size=10, color='blue'),\n",
    "    name='Scatter',\n",
    "    text=background_df_covid['word'],  # Add the words as hover text\n",
    "    hoverinfo='text'  # Display only the hover text\n",
    ")\n",
    "\n",
    "plotly_trajectories = []\n",
    "\n",
    "for word in highlighted_words:\n",
    "\n",
    "    traj = trajectories_df[trajectories_df['word'] == word].reset_index(drop=True)\n",
    "\n",
    "    line = go.Scatter(\n",
    "        x=traj['x'],\n",
    "        y=traj['y'],\n",
    "        mode='lines',\n",
    "        line=dict(color='green'),\n",
    "        name=word,\n",
    "        text=[f'{word} ({year})' for year in traj['year']],\n",
    "        hoverinfo=\"text\"\n",
    "    )\n",
    "    plotly_trajectories += [line]\n",
    "\n",
    "# Combine the scatter plot and line plots into a single figure\n",
    "fig = go.Figure(data=[scatter] + plotly_trajectories)\n",
    "\n",
    "# Update layout for better visibility\n",
    "fig.update_layout(\n",
    "    title=\"Scatter Plot with Line Plots\",\n",
    "    xaxis_title=\"X Axis\",\n",
    "    yaxis_title=\"Y Axis\"\n",
    ")\n",
    "\n",
    "fig.show()"
   ]
  },
  {
   "cell_type": "code",
   "execution_count": 172,
   "id": "01b87f8e-ae9c-4136-ad6d-e711a3dfd8e2",
   "metadata": {},
   "outputs": [
    {
     "data": {
      "text/html": [
       "<div>\n",
       "<style scoped>\n",
       "    .dataframe tbody tr th:only-of-type {\n",
       "        vertical-align: middle;\n",
       "    }\n",
       "\n",
       "    .dataframe tbody tr th {\n",
       "        vertical-align: top;\n",
       "    }\n",
       "\n",
       "    .dataframe thead th {\n",
       "        text-align: right;\n",
       "    }\n",
       "</style>\n",
       "<table border=\"1\" class=\"dataframe\">\n",
       "  <thead>\n",
       "    <tr style=\"text-align: right;\">\n",
       "      <th></th>\n",
       "      <th>word</th>\n",
       "      <th>year</th>\n",
       "      <th>x</th>\n",
       "      <th>y</th>\n",
       "    </tr>\n",
       "  </thead>\n",
       "  <tbody>\n",
       "    <tr>\n",
       "      <th>0</th>\n",
       "      <td>artificial intelligence</td>\n",
       "      <td>1985</td>\n",
       "      <td>12.275091</td>\n",
       "      <td>-43.687987</td>\n",
       "    </tr>\n",
       "    <tr>\n",
       "      <th>1</th>\n",
       "      <td>artificial intelligence</td>\n",
       "      <td>1998</td>\n",
       "      <td>19.651507</td>\n",
       "      <td>-9.971300</td>\n",
       "    </tr>\n",
       "    <tr>\n",
       "      <th>2</th>\n",
       "      <td>artificial intelligence</td>\n",
       "      <td>1999</td>\n",
       "      <td>17.351965</td>\n",
       "      <td>12.011625</td>\n",
       "    </tr>\n",
       "    <tr>\n",
       "      <th>3</th>\n",
       "      <td>artificial intelligence</td>\n",
       "      <td>2000</td>\n",
       "      <td>17.301506</td>\n",
       "      <td>11.854000</td>\n",
       "    </tr>\n",
       "    <tr>\n",
       "      <th>4</th>\n",
       "      <td>artificial intelligence</td>\n",
       "      <td>2003</td>\n",
       "      <td>12.339240</td>\n",
       "      <td>-41.348265</td>\n",
       "    </tr>\n",
       "    <tr>\n",
       "      <th>5</th>\n",
       "      <td>artificial intelligence</td>\n",
       "      <td>2004</td>\n",
       "      <td>-22.630082</td>\n",
       "      <td>34.974616</td>\n",
       "    </tr>\n",
       "    <tr>\n",
       "      <th>6</th>\n",
       "      <td>artificial intelligence</td>\n",
       "      <td>2006</td>\n",
       "      <td>12.031985</td>\n",
       "      <td>-41.041040</td>\n",
       "    </tr>\n",
       "    <tr>\n",
       "      <th>7</th>\n",
       "      <td>artificial intelligence</td>\n",
       "      <td>2007</td>\n",
       "      <td>10.551995</td>\n",
       "      <td>-38.689850</td>\n",
       "    </tr>\n",
       "    <tr>\n",
       "      <th>8</th>\n",
       "      <td>artificial intelligence</td>\n",
       "      <td>2008</td>\n",
       "      <td>9.687175</td>\n",
       "      <td>-39.444217</td>\n",
       "    </tr>\n",
       "    <tr>\n",
       "      <th>9</th>\n",
       "      <td>artificial intelligence</td>\n",
       "      <td>2009</td>\n",
       "      <td>9.197545</td>\n",
       "      <td>-5.722597</td>\n",
       "    </tr>\n",
       "    <tr>\n",
       "      <th>10</th>\n",
       "      <td>artificial intelligence</td>\n",
       "      <td>2010</td>\n",
       "      <td>15.867963</td>\n",
       "      <td>12.149940</td>\n",
       "    </tr>\n",
       "    <tr>\n",
       "      <th>11</th>\n",
       "      <td>artificial intelligence</td>\n",
       "      <td>2011</td>\n",
       "      <td>1.864154</td>\n",
       "      <td>16.908406</td>\n",
       "    </tr>\n",
       "    <tr>\n",
       "      <th>12</th>\n",
       "      <td>artificial intelligence</td>\n",
       "      <td>2012</td>\n",
       "      <td>-21.583166</td>\n",
       "      <td>-19.355934</td>\n",
       "    </tr>\n",
       "    <tr>\n",
       "      <th>13</th>\n",
       "      <td>artificial intelligence</td>\n",
       "      <td>2013</td>\n",
       "      <td>-30.982448</td>\n",
       "      <td>-18.520840</td>\n",
       "    </tr>\n",
       "    <tr>\n",
       "      <th>14</th>\n",
       "      <td>artificial intelligence</td>\n",
       "      <td>2014</td>\n",
       "      <td>-30.370664</td>\n",
       "      <td>22.265815</td>\n",
       "    </tr>\n",
       "    <tr>\n",
       "      <th>15</th>\n",
       "      <td>artificial intelligence</td>\n",
       "      <td>2015</td>\n",
       "      <td>-13.656519</td>\n",
       "      <td>28.011842</td>\n",
       "    </tr>\n",
       "    <tr>\n",
       "      <th>16</th>\n",
       "      <td>artificial intelligence</td>\n",
       "      <td>2016</td>\n",
       "      <td>-30.210909</td>\n",
       "      <td>11.353567</td>\n",
       "    </tr>\n",
       "    <tr>\n",
       "      <th>17</th>\n",
       "      <td>artificial intelligence</td>\n",
       "      <td>2017</td>\n",
       "      <td>-23.987238</td>\n",
       "      <td>37.099460</td>\n",
       "    </tr>\n",
       "    <tr>\n",
       "      <th>18</th>\n",
       "      <td>artificial intelligence</td>\n",
       "      <td>2018</td>\n",
       "      <td>-21.425448</td>\n",
       "      <td>36.262022</td>\n",
       "    </tr>\n",
       "    <tr>\n",
       "      <th>19</th>\n",
       "      <td>artificial intelligence</td>\n",
       "      <td>2019</td>\n",
       "      <td>-22.381432</td>\n",
       "      <td>37.998630</td>\n",
       "    </tr>\n",
       "    <tr>\n",
       "      <th>20</th>\n",
       "      <td>artificial intelligence</td>\n",
       "      <td>2020</td>\n",
       "      <td>-22.662512</td>\n",
       "      <td>41.919244</td>\n",
       "    </tr>\n",
       "    <tr>\n",
       "      <th>21</th>\n",
       "      <td>artificial intelligence</td>\n",
       "      <td>2021</td>\n",
       "      <td>-22.892069</td>\n",
       "      <td>37.631939</td>\n",
       "    </tr>\n",
       "    <tr>\n",
       "      <th>22</th>\n",
       "      <td>artificial intelligence</td>\n",
       "      <td>2022</td>\n",
       "      <td>-22.642430</td>\n",
       "      <td>35.027091</td>\n",
       "    </tr>\n",
       "    <tr>\n",
       "      <th>23</th>\n",
       "      <td>artificial intelligence</td>\n",
       "      <td>2023</td>\n",
       "      <td>-22.628780</td>\n",
       "      <td>35.006761</td>\n",
       "    </tr>\n",
       "    <tr>\n",
       "      <th>24</th>\n",
       "      <td>large language models</td>\n",
       "      <td>2021</td>\n",
       "      <td>-35.017615</td>\n",
       "      <td>30.916327</td>\n",
       "    </tr>\n",
       "    <tr>\n",
       "      <th>25</th>\n",
       "      <td>large language models</td>\n",
       "      <td>2022</td>\n",
       "      <td>-37.888641</td>\n",
       "      <td>33.266928</td>\n",
       "    </tr>\n",
       "    <tr>\n",
       "      <th>26</th>\n",
       "      <td>large language models</td>\n",
       "      <td>2023</td>\n",
       "      <td>-42.456942</td>\n",
       "      <td>42.034963</td>\n",
       "    </tr>\n",
       "  </tbody>\n",
       "</table>\n",
       "</div>"
      ],
      "text/plain": [
       "                       word  year          x          y\n",
       "0   artificial intelligence  1985  12.275091 -43.687987\n",
       "1   artificial intelligence  1998  19.651507  -9.971300\n",
       "2   artificial intelligence  1999  17.351965  12.011625\n",
       "3   artificial intelligence  2000  17.301506  11.854000\n",
       "4   artificial intelligence  2003  12.339240 -41.348265\n",
       "5   artificial intelligence  2004 -22.630082  34.974616\n",
       "6   artificial intelligence  2006  12.031985 -41.041040\n",
       "7   artificial intelligence  2007  10.551995 -38.689850\n",
       "8   artificial intelligence  2008   9.687175 -39.444217\n",
       "9   artificial intelligence  2009   9.197545  -5.722597\n",
       "10  artificial intelligence  2010  15.867963  12.149940\n",
       "11  artificial intelligence  2011   1.864154  16.908406\n",
       "12  artificial intelligence  2012 -21.583166 -19.355934\n",
       "13  artificial intelligence  2013 -30.982448 -18.520840\n",
       "14  artificial intelligence  2014 -30.370664  22.265815\n",
       "15  artificial intelligence  2015 -13.656519  28.011842\n",
       "16  artificial intelligence  2016 -30.210909  11.353567\n",
       "17  artificial intelligence  2017 -23.987238  37.099460\n",
       "18  artificial intelligence  2018 -21.425448  36.262022\n",
       "19  artificial intelligence  2019 -22.381432  37.998630\n",
       "20  artificial intelligence  2020 -22.662512  41.919244\n",
       "21  artificial intelligence  2021 -22.892069  37.631939\n",
       "22  artificial intelligence  2022 -22.642430  35.027091\n",
       "23  artificial intelligence  2023 -22.628780  35.006761\n",
       "24    large language models  2021 -35.017615  30.916327\n",
       "25    large language models  2022 -37.888641  33.266928\n",
       "26    large language models  2023 -42.456942  42.034963"
      ]
     },
     "execution_count": 172,
     "metadata": {},
     "output_type": "execute_result"
    }
   ],
   "source": [
    "trajectories_df_ai = trajectories_df[trajectories_df['word'].isin({'large language models', 'artificial intelligence'})].reset_index(drop=True)\n",
    "trajectories_df_ai"
   ]
  },
  {
   "cell_type": "code",
   "execution_count": 220,
   "id": "88d7f41c-e2dc-4ede-9bad-582dba418c83",
   "metadata": {},
   "outputs": [],
   "source": [
    "path = 'outputs/visual/trajectories_ai.xlsx'\n",
    "\n",
    "# Only display nearest neighbors in the background\n",
    "background_mask_ai = background_df.word.isin(nearest_neighbors)\n",
    "background_df_ai = background_df[background_mask_ai].reset_index(drop=True).sort_values(['x'])\n",
    "\n",
    "if True: #not os.path.exists(path):\n",
    "    with pd.ExcelWriter(path) as writer:\n",
    "        background_df_ai.to_excel(writer, sheet_name=\"background\", index=False)\n",
    "        trajectories_df_ai.to_excel(writer, sheet_name=\"trajectories\", index=False)"
   ]
  },
  {
   "cell_type": "code",
   "execution_count": 125,
   "id": "d0326d95-96c8-41ab-8a53-2e64bcb05d7f",
   "metadata": {},
   "outputs": [
    {
     "data": {
      "image/png": "[encoded data removed]",
      "text/plain": [
       "<Figure size 1000x800 with 1 Axes>"
      ]
     },
     "metadata": {},
     "output_type": "display_data"
    }
   ],
   "source": [
    "path = 'outputs/keyword_trajectories/trajectories_ai.xlsx'\n",
    "\n",
    "from adjustText import adjust_text\n",
    "\n",
    "background_df_ai = pd.read_excel(path, sheet_name=\"background\")\n",
    "trajectories_df_ai = pd.read_excel(path, sheet_name=\"trajectories\")\n",
    "\n",
    "nearest_neighbors = {\n",
    "    \"operatorator algebras\",\n",
    "    \"domains\",\n",
    "    \"family\",\n",
    "    \"support vector machines\",\n",
    "    \"monte carlo\",\n",
    "    \"neural networks\",\n",
    "    \"machine learning\",\n",
    "    \"active learning\",\n",
    "    \"multi-task learning\",\n",
    "    \"facial expression recognition\",\n",
    "    \"model compression\",\n",
    "    \"convolution\",\n",
    "    \"convolutional neural network\",\n",
    "    \"language modeling\",\n",
    "    \"nlp\",\n",
    "    \"conversational agents\",\n",
    "    \"human-in-the-loop\",\n",
    "    \"small models\",\n",
    "    \"object recognition\"\n",
    "}\n",
    "\n",
    "# Plotting\n",
    "plt.figure(figsize=(10, 8))\n",
    "plt.scatter(background_df_ai['x'], background_df_ai['y'], alpha=0.0)\n",
    "\n",
    "\n",
    "adjusted_texts = []\n",
    "for index, row in background_df_ai.iterrows():\n",
    "    adjusted_texts.append(plt.text(row['x'], row['y'], row['word'], fontsize=18, ha='center', va='center', alpha=0.5))\n",
    "\n",
    "\n",
    "# Turn off the x and y labels, axis, and ticks\n",
    "plt.xlabel('')\n",
    "plt.ylabel('')\n",
    "plt.xticks([])  # Remove x-axis ticks\n",
    "plt.yticks([])  # Remove y-axis ticks\n",
    "for direction in ['top', 'right', 'bottom', 'left']:\n",
    "    plt.gca().spines[direction].set_visible(False)  # Hide top spine\n",
    "\n",
    "\n",
    "# Initialize previous coordinates\n",
    "prev_x, prev_y = None, None\n",
    "\n",
    "# Plot arrows for the trajectories\n",
    "for word in {\"AI\"}:\n",
    "    traj = trajectories_df_ai[trajectories_df_ai['word'] == word]\n",
    "    # traj = traj.sort_values(['year']).reset_index(drop=True)\n",
    "\n",
    "    for index, row in traj.iterrows():\n",
    "        adjusted_texts.append(plt.text(row['x'], row['y'], f\"{row['word']} ({row['year']})\", fontsize=FONTSIZE, ha='center', va='center', alpha=1.0))\n",
    "        # if prev_x is not None and prev_y is not None:\n",
    "        #     # Plot an arrow from (prev_x, prev_y) to (row['x'], row['y'])\n",
    "        #     plt.annotate('', xy=(row['x'], row['y']), xytext=(prev_x, prev_y),\n",
    "        #                  arrowprops=dict(facecolor='#219ebc', shrink=0.07, alpha=0.5, width=3, headwidth=12, edgecolor='none'))\n",
    "        \n",
    "\n",
    "        # Update prev_x and prev_y to the current point's coordinates\n",
    "        prev_x = row['x']\n",
    "        prev_y = row['y']\n",
    "\n",
    "prev_x, prev_y = None, None\n",
    "\n",
    "for word in {\"LLM\"}:\n",
    "    traj = trajectories_df_ai[trajectories_df_ai['word'] == word]\n",
    "    traj = traj.sort_values(['year']).reset_index(drop=True)\n",
    "\n",
    "    for index, row in traj.iterrows():\n",
    "        # adjusted_texts.append(plt.text(row['x'], row['y'], f\"{row['word']} ({row['year']})\", fontsize=FONTSIZE, ha='center', va='center', alpha=1.0))\n",
    "        if prev_x is not None and prev_y is not None:\n",
    "            \n",
    "            # Plot an arrow from (prev_x, prev_y) to (row['x'], row['y'])\n",
    "            plt.annotate('', xy=(row['x'], row['y']), xytext=(prev_x, prev_y),\n",
    "                         arrowprops=dict(facecolor='#fb8500', shrink=0.05, alpha=0.5, width=8, headwidth=ARROWHEADWIDTH, edgecolor='none'))\n",
    "        \n",
    "        # Update prev_x and prev_y to the current point's coordinates\n",
    "        prev_x = row['x']\n",
    "        prev_y = row['y']\n",
    "    \n",
    "    adjusted_texts.append(plt.text(-37.4,37.3, f\"{row['word']} (2021-23)\", fontsize=FONTSIZE, ha='center', va='center'))\n",
    "\n",
    "\n",
    "# Create legend handles and add legend\n",
    "plt.legend(handles=[\n",
    "    mpatches.FancyArrowPatch((0, 0), (1, 0), color='#219ebc', label='AI', alpha=0.6), \n",
    "    mpatches.FancyArrowPatch((0, 0), (1, 0), color='#fb8500', label='LLM', alpha=0.6)\n",
    "], loc='upper right', fontsize=FONTSIZE, frameon=True)\n",
    "\n",
    "# Adjust text to avoid overlap\n",
    "adjusted_texts = adjust_text(adjusted_texts, autoalign='xy', only_move={'points':'xy', 'text':'xy'}, force_text=(0.05, 0.05))\n",
    "\n",
    "\n",
    "prev_x, prev_y = None, None\n",
    "for new_text in adjusted_texts[0]:\n",
    "    if new_text._text.startswith(\"AI\"):\n",
    "        if prev_x is not None and prev_y is not None:\n",
    "            plt.annotate('', xy=(new_text._x, new_text._y), xytext=(prev_x, prev_y),\n",
    "                             arrowprops=dict(facecolor='#219ebc', shrink=0.05, alpha=0.3, width=8, headwidth=ARROWHEADWIDTH, edgecolor='none'))\n",
    "        prev_x, prev_y = new_text._x, new_text._y\n",
    "\n",
    "\n",
    "\n",
    "plt.savefig(\"outputs/keyword_trajectories/trajectories_ai.pdf\", dpi=300)"
   ]
  },
  {
   "cell_type": "code",
   "execution_count": 111,
   "id": "ace1d30c-e92f-434b-ae23-c152f5a0d5df",
   "metadata": {},
   "outputs": [
    {
     "ename": "NameError",
     "evalue": "name 'background_df_masked' is not defined",
     "output_type": "error",
     "traceback": [
      "\u001b[0;31m---------------------------------------------------------------------------\u001b[0m",
      "\u001b[0;31mNameError\u001b[0m                                 Traceback (most recent call last)",
      "Cell \u001b[0;32mIn[111], line 5\u001b[0m\n\u001b[1;32m      1\u001b[0m \u001b[38;5;28;01mimport\u001b[39;00m \u001b[38;5;21;01mplotly\u001b[39;00m\u001b[38;5;21;01m.\u001b[39;00m\u001b[38;5;21;01mgraph_objs\u001b[39;00m \u001b[38;5;28;01mas\u001b[39;00m \u001b[38;5;21;01mgo\u001b[39;00m\n\u001b[1;32m      2\u001b[0m \u001b[38;5;28;01mimport\u001b[39;00m \u001b[38;5;21;01mplotly\u001b[39;00m\u001b[38;5;21;01m.\u001b[39;00m\u001b[38;5;21;01mexpress\u001b[39;00m \u001b[38;5;28;01mas\u001b[39;00m \u001b[38;5;21;01mpx\u001b[39;00m\n\u001b[1;32m      4\u001b[0m scatter \u001b[38;5;241m=\u001b[39m go\u001b[38;5;241m.\u001b[39mScatter(\n\u001b[0;32m----> 5\u001b[0m     x\u001b[38;5;241m=\u001b[39m\u001b[43mbackground_df_masked\u001b[49m[\u001b[38;5;124m'\u001b[39m\u001b[38;5;124mx\u001b[39m\u001b[38;5;124m'\u001b[39m]\u001b[38;5;241m.\u001b[39mvalues,\n\u001b[1;32m      6\u001b[0m     y\u001b[38;5;241m=\u001b[39mbackground_df_masked[\u001b[38;5;124m'\u001b[39m\u001b[38;5;124my\u001b[39m\u001b[38;5;124m'\u001b[39m]\u001b[38;5;241m.\u001b[39mvalues,\n\u001b[1;32m      7\u001b[0m     mode\u001b[38;5;241m=\u001b[39m\u001b[38;5;124m'\u001b[39m\u001b[38;5;124mmarkers\u001b[39m\u001b[38;5;124m'\u001b[39m,\n\u001b[1;32m      8\u001b[0m     marker\u001b[38;5;241m=\u001b[39m\u001b[38;5;28mdict\u001b[39m(size\u001b[38;5;241m=\u001b[39m\u001b[38;5;241m10\u001b[39m, color\u001b[38;5;241m=\u001b[39m\u001b[38;5;124m'\u001b[39m\u001b[38;5;124mblue\u001b[39m\u001b[38;5;124m'\u001b[39m),\n\u001b[1;32m      9\u001b[0m     name\u001b[38;5;241m=\u001b[39m\u001b[38;5;124m'\u001b[39m\u001b[38;5;124mScatter\u001b[39m\u001b[38;5;124m'\u001b[39m,\n\u001b[1;32m     10\u001b[0m     text\u001b[38;5;241m=\u001b[39mbackground_df_masked[\u001b[38;5;124m'\u001b[39m\u001b[38;5;124mword\u001b[39m\u001b[38;5;124m'\u001b[39m],  \u001b[38;5;66;03m# Add the words as hover text\u001b[39;00m\n\u001b[1;32m     11\u001b[0m     hoverinfo\u001b[38;5;241m=\u001b[39m\u001b[38;5;124m'\u001b[39m\u001b[38;5;124mtext\u001b[39m\u001b[38;5;124m'\u001b[39m  \u001b[38;5;66;03m# Display only the hover text\u001b[39;00m\n\u001b[1;32m     12\u001b[0m )\n\u001b[1;32m     14\u001b[0m plotly_trajectories \u001b[38;5;241m=\u001b[39m []\n\u001b[1;32m     16\u001b[0m \u001b[38;5;28;01mfor\u001b[39;00m word \u001b[38;5;129;01min\u001b[39;00m highlighted_words:\n",
      "\u001b[0;31mNameError\u001b[0m: name 'background_df_masked' is not defined"
     ]
    }
   ],
   "source": [
    "import plotly.graph_objs as go\n",
    "import plotly.express as px\n",
    "\n",
    "scatter = go.Scatter(\n",
    "    x=background_df_masked['x'].values,\n",
    "    y=background_df_masked['y'].values,\n",
    "    mode='markers',\n",
    "    marker=dict(size=10, color='blue'),\n",
    "    name='Scatter',\n",
    "    text=background_df_masked['word'],  # Add the words as hover text\n",
    "    hoverinfo='text'  # Display only the hover text\n",
    ")\n",
    "\n",
    "plotly_trajectories = []\n",
    "\n",
    "for word in highlighted_words:\n",
    "\n",
    "    traj = trajectories_df[trajectories_df['word'] == word].reset_index(drop=True)\n",
    "\n",
    "    line = go.Scatter(\n",
    "        x=traj['x'],\n",
    "        y=traj['y'],\n",
    "        mode='lines',\n",
    "        line=dict(color='green'),\n",
    "        name=word,\n",
    "        text=[f'{word} ({year})' for year in traj['year']],\n",
    "        hoverinfo=\"text\"\n",
    "    )\n",
    "    plotly_trajectories += [line]\n",
    "\n",
    "# Combine the scatter plot and line plots into a single figure\n",
    "fig = go.Figure(data=[scatter] + plotly_trajectories)\n",
    "\n",
    "# Update layout for better visibility\n",
    "fig.update_layout(\n",
    "    title=\"Scatter Plot with Line Plots\",\n",
    "    xaxis_title=\"X Axis\",\n",
    "    yaxis_title=\"Y Axis\"\n",
    ")\n",
    "\n",
    "fig.show()"
   ]
  },
  {
   "cell_type": "code",
   "execution_count": null,
   "id": "10768a31-0bcb-4fa5-9e7e-e077330ff23d",
   "metadata": {},
   "outputs": [],
   "source": []
  }
 ],
 "metadata": {
  "kernelspec": {
   "display_name": "Python 3 (ipykernel)",
   "language": "python",
   "name": "python3"
  },
  "language_info": {
   "codemirror_mode": {
    "name": "ipython",
    "version": 3
   },
   "file_extension": ".py",
   "mimetype": "text/x-python",
   "name": "python",
   "nbconvert_exporter": "python",
   "pygments_lexer": "ipython3",
   "version": "3.11.9"
  }
 },
 "nbformat": 4,
 "nbformat_minor": 5
}
